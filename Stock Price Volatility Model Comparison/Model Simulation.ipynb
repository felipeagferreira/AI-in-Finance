{
 "cells": [
  {
   "cell_type": "code",
   "execution_count": 1,
   "metadata": {},
   "outputs": [],
   "source": [
    "import numpy as np\n",
    "import pandas as pd\n",
    "\n",
    "import matplotlib.pyplot as plt\n",
    "import seaborn as sns\n",
    "%matplotlib inline"
   ]
  },
  {
   "cell_type": "code",
   "execution_count": 2,
   "metadata": {},
   "outputs": [],
   "source": [
    "from scipy.stats import skew\n",
    "from scipy.stats import kurtosis"
   ]
  },
  {
   "cell_type": "code",
   "execution_count": null,
   "metadata": {},
   "outputs": [],
   "source": []
  },
  {
   "cell_type": "markdown",
   "metadata": {},
   "source": [
    "## EWMA"
   ]
  },
  {
   "cell_type": "markdown",
   "metadata": {},
   "source": [
    "#### For the EWMA model we use lambda = 0.94 which was found to maximize the likelihood on Q2. We use the last S&P data point for the initial stock price, which was \"S_old = 2850.13\", and its volatility of 0.0874 as today's volatility. In this simulation, we conduct 200.000 simulations to obtain a better performance."
   ]
  },
  {
   "cell_type": "code",
   "execution_count": 16,
   "metadata": {},
   "outputs": [],
   "source": [
    "import random\n",
    "import math\n",
    "\n",
    "Stock_price = []\n",
    "Return_EWMA = []\n",
    "Variance = []\n",
    "\n",
    "mu = 0.07\n",
    "number_of_days = 252\n",
    "lambda_l = 0.94\n",
    "\n",
    "for i in range(200000):\n",
    "    S_old = 2850.13\n",
    "    Sigma_old = 0.0874\n",
    "    \n",
    "    for j in range(0, number_of_days):\n",
    "        phi = random.normalvariate(0, 1)\n",
    "        S_new = S_old*math.exp((mu/252 - 0.5*Sigma_old**2) + Sigma_old*phi)\n",
    "        \n",
    "        if (S_old == 0.0):                  # avoid divisions by 0\n",
    "            #print(\"Found a zero S_old\")\n",
    "            continue;\n",
    "        \n",
    "        variance = lambda_l * (Sigma_old**2) + (1-lambda_l)*(((S_new - S_old)/S_old)**2)\n",
    "        Return = (S_new - S_old)/S_old\n",
    "        \n",
    "        Sigma_old = math.sqrt(variance)\n",
    "        S_old = S_new\n",
    "    \n",
    "    Stock_price.append(S_new)\n",
    "    Return_EWMA.append(Return)"
   ]
  },
  {
   "cell_type": "code",
   "execution_count": 17,
   "metadata": {},
   "outputs": [
    {
     "data": {
      "text/html": [
       "<div>\n",
       "<style scoped>\n",
       "    .dataframe tbody tr th:only-of-type {\n",
       "        vertical-align: middle;\n",
       "    }\n",
       "\n",
       "    .dataframe tbody tr th {\n",
       "        vertical-align: top;\n",
       "    }\n",
       "\n",
       "    .dataframe thead th {\n",
       "        text-align: right;\n",
       "    }\n",
       "</style>\n",
       "<table border=\"1\" class=\"dataframe\">\n",
       "  <thead>\n",
       "    <tr style=\"text-align: right;\">\n",
       "      <th></th>\n",
       "      <th>Stock Price</th>\n",
       "      <th>Return</th>\n",
       "    </tr>\n",
       "  </thead>\n",
       "  <tbody>\n",
       "    <tr>\n",
       "      <th>0</th>\n",
       "      <td>1297.746667</td>\n",
       "      <td>0.001712</td>\n",
       "    </tr>\n",
       "    <tr>\n",
       "      <th>1</th>\n",
       "      <td>403.481691</td>\n",
       "      <td>0.295660</td>\n",
       "    </tr>\n",
       "    <tr>\n",
       "      <th>2</th>\n",
       "      <td>2286.543304</td>\n",
       "      <td>-0.039176</td>\n",
       "    </tr>\n",
       "    <tr>\n",
       "      <th>3</th>\n",
       "      <td>3860.937101</td>\n",
       "      <td>0.044047</td>\n",
       "    </tr>\n",
       "    <tr>\n",
       "      <th>4</th>\n",
       "      <td>6081.757540</td>\n",
       "      <td>-0.011188</td>\n",
       "    </tr>\n",
       "  </tbody>\n",
       "</table>\n",
       "</div>"
      ],
      "text/plain": [
       "   Stock Price    Return\n",
       "0  1297.746667  0.001712\n",
       "1   403.481691  0.295660\n",
       "2  2286.543304 -0.039176\n",
       "3  3860.937101  0.044047\n",
       "4  6081.757540 -0.011188"
      ]
     },
     "execution_count": 17,
     "metadata": {},
     "output_type": "execute_result"
    }
   ],
   "source": [
    "# Save results in a csv file\n",
    "df_EWMA = pd.DataFrame(data={\"Stock Price\": Stock_price, \"Return\": Return_EWMA})\n",
    "df_EWMA.to_csv(\"./EWMA.csv\", index=False)    \n",
    "\n",
    "df_EWMA.head()"
   ]
  },
  {
   "cell_type": "code",
   "execution_count": 43,
   "metadata": {},
   "outputs": [
    {
     "data": {
      "text/html": [
       "<div>\n",
       "<style scoped>\n",
       "    .dataframe tbody tr th:only-of-type {\n",
       "        vertical-align: middle;\n",
       "    }\n",
       "\n",
       "    .dataframe tbody tr th {\n",
       "        vertical-align: top;\n",
       "    }\n",
       "\n",
       "    .dataframe thead th {\n",
       "        text-align: right;\n",
       "    }\n",
       "</style>\n",
       "<table border=\"1\" class=\"dataframe\">\n",
       "  <thead>\n",
       "    <tr style=\"text-align: right;\">\n",
       "      <th></th>\n",
       "      <th>Stock Price</th>\n",
       "      <th>Return</th>\n",
       "    </tr>\n",
       "  </thead>\n",
       "  <tbody>\n",
       "    <tr>\n",
       "      <th>count</th>\n",
       "      <td>2.000000e+05</td>\n",
       "      <td>200000.000000</td>\n",
       "    </tr>\n",
       "    <tr>\n",
       "      <th>mean</th>\n",
       "      <td>2.892062e+03</td>\n",
       "      <td>-0.000161</td>\n",
       "    </tr>\n",
       "    <tr>\n",
       "      <th>std</th>\n",
       "      <td>1.357087e+04</td>\n",
       "      <td>0.100275</td>\n",
       "    </tr>\n",
       "    <tr>\n",
       "      <th>min</th>\n",
       "      <td>0.000000e+00</td>\n",
       "      <td>-1.000000</td>\n",
       "    </tr>\n",
       "    <tr>\n",
       "      <th>25%</th>\n",
       "      <td>5.562304e+02</td>\n",
       "      <td>-0.038855</td>\n",
       "    </tr>\n",
       "    <tr>\n",
       "      <th>50%</th>\n",
       "      <td>1.400322e+03</td>\n",
       "      <td>-0.001651</td>\n",
       "    </tr>\n",
       "    <tr>\n",
       "      <th>75%</th>\n",
       "      <td>3.006397e+03</td>\n",
       "      <td>0.034944</td>\n",
       "    </tr>\n",
       "    <tr>\n",
       "      <th>max</th>\n",
       "      <td>3.335482e+06</td>\n",
       "      <td>7.631693</td>\n",
       "    </tr>\n",
       "  </tbody>\n",
       "</table>\n",
       "</div>"
      ],
      "text/plain": [
       "        Stock Price         Return\n",
       "count  2.000000e+05  200000.000000\n",
       "mean   2.892062e+03      -0.000161\n",
       "std    1.357087e+04       0.100275\n",
       "min    0.000000e+00      -1.000000\n",
       "25%    5.562304e+02      -0.038855\n",
       "50%    1.400322e+03      -0.001651\n",
       "75%    3.006397e+03       0.034944\n",
       "max    3.335482e+06       7.631693"
      ]
     },
     "execution_count": 43,
     "metadata": {},
     "output_type": "execute_result"
    }
   ],
   "source": [
    "df_EWMA.describe()"
   ]
  },
  {
   "cell_type": "code",
   "execution_count": 20,
   "metadata": {},
   "outputs": [
    {
     "data": {
      "text/plain": [
       "Text(0, 0.5, 'Frequency')"
      ]
     },
     "execution_count": 20,
     "metadata": {},
     "output_type": "execute_result"
    },
    {
     "data": {
      "image/png": "[encoded data removed]",
      "text/plain": [
       "<Figure size 576x432 with 1 Axes>"
      ]
     },
     "metadata": {
      "needs_background": "light"
     },
     "output_type": "display_data"
    }
   ],
   "source": [
    "plt.figure(figsize=(8, 6))\n",
    "df_EWMA['Return'].hist(bins=2000, grid=False)\n",
    "plt.title('Final annual returns for EWMA model', fontsize=18, fontweight='bold', pad=20)\n",
    "plt.xlabel(\"Return\", fontsize=15)\n",
    "plt.ylabel(\"Frequency\",fontsize=15)"
   ]
  },
  {
   "cell_type": "code",
   "execution_count": 29,
   "metadata": {},
   "outputs": [
    {
     "data": {
      "image/png": "[encoded data removed]",
      "text/plain": [
       "<Figure size 576x432 with 1 Axes>"
      ]
     },
     "metadata": {
      "needs_background": "light"
     },
     "output_type": "display_data"
    }
   ],
   "source": [
    "# Plot a normal distribution\n",
    "\n",
    "normal = [] \n",
    "    \n",
    "for i in range(200000): \n",
    "    Stock_normal = random.normalvariate(0, 1) \n",
    "    normal.append(Stock_normal) \n",
    "        \n",
    "# plotting a graph \n",
    "plt.figure(figsize=(8, 6))\n",
    "plt.hist(normal, bins = 100) \n",
    "plt.title('Normal distribution', fontsize=18, fontweight='bold', pad=20)\n",
    "plt.xlabel(\"Return\", fontsize=15)\n",
    "plt.ylabel(\"Frequency\",fontsize=15)\n",
    "plt.show()"
   ]
  },
  {
   "cell_type": "code",
   "execution_count": 46,
   "metadata": {},
   "outputs": [
    {
     "name": "stdout",
     "output_type": "stream",
     "text": [
      "EWMA variance:  0.010055040329625764\n",
      "EWMA skew:  7.888961045331014\n",
      "EWMA kurtosis:  433.737180772622\n"
     ]
    }
   ],
   "source": [
    "#Print the variance, skew and kurtosis of this simulated return distribution\n",
    "print('EWMA variance: ', df_EWMA['Return'].var())\n",
    "print('EWMA skew: ', df_EWMA['Return'].skew())\n",
    "print('EWMA kurtosis: ', df_EWMA['Return'].kurtosis())"
   ]
  },
  {
   "cell_type": "markdown",
   "metadata": {},
   "source": [
    "#### Skewness above 0 indicates possible non-normality. This kurtosis highly above 0 suggests non-normality and thus high risk. This can also indicate higher presence of outliers such as extreme negative and positive returns."
   ]
  },
  {
   "cell_type": "code",
   "execution_count": null,
   "metadata": {},
   "outputs": [],
   "source": []
  },
  {
   "cell_type": "markdown",
   "metadata": {},
   "source": [
    "## GARCH(1,1)"
   ]
  },
  {
   "cell_type": "markdown",
   "metadata": {},
   "source": [
    "#### For the GARCH(1,1) model we use the parameters calibrated on Q2. We use the last S&P data point for the initial stock price, which was \"S_old = 2850.13\", and its volatility of 0.108747 as today's volatility. In this simulation, we conduct 200.000 simulations to obtain a better performance."
   ]
  },
  {
   "cell_type": "code",
   "execution_count": 47,
   "metadata": {},
   "outputs": [],
   "source": [
    "import random\n",
    "import math\n",
    "\n",
    "Stock_price_GARCH = []\n",
    "Return_GARCH = []\n",
    "Variance = []\n",
    "\n",
    "mu = 0.07\n",
    "number_of_days = 252\n",
    "\n",
    "\n",
    "w = 0.00000490408\n",
    "alpha = 0.179259\n",
    "beta = 0.7383474\n",
    "\n",
    "for i in range(200000):\n",
    "    S_old = 2850.13\n",
    "    Sigma_old = 0.108747\n",
    "    \n",
    "    for j in range(0, number_of_days):\n",
    "        phi = random.normalvariate(0, 1)\n",
    "        S_new = S_old*math.exp((mu/252 - 0.5*Sigma_old**2) + Sigma_old*phi)\n",
    "        \n",
    "        if (S_old == 0.0):                  # avoid divisions by 0\n",
    "            continue;\n",
    "                \n",
    "        variance = w + alpha*(((S_new - S_old)/S_old)**2) + beta*(Sigma_old**2)\n",
    "        Return = (S_new - S_old)/S_old\n",
    "        \n",
    "        Sigma_old = math.sqrt(variance)\n",
    "        S_old = S_new\n",
    "    \n",
    "    Stock_price_GARCH.append(S_new)\n",
    "    Return_GARCH.append(Return)"
   ]
  },
  {
   "cell_type": "code",
   "execution_count": 53,
   "metadata": {},
   "outputs": [
    {
     "name": "stdout",
     "output_type": "stream",
     "text": [
      "<class 'pandas.core.frame.DataFrame'>\n",
      "RangeIndex: 200000 entries, 0 to 199999\n",
      "Data columns (total 2 columns):\n",
      " #   Column       Non-Null Count   Dtype  \n",
      "---  ------       --------------   -----  \n",
      " 0   Stock Price  200000 non-null  float64\n",
      " 1   Return       200000 non-null  float64\n",
      "dtypes: float64(2)\n",
      "memory usage: 3.1 MB\n"
     ]
    }
   ],
   "source": [
    "df_GARCH = pd.DataFrame(data={\"Stock Price\": Stock_price_GARCH, \"Return\": Return_GARCH})\n",
    "df_GARCH.to_csv(\"./GARCH.csv\", index=False)    \n",
    "\n",
    "df_GARCH.info()"
   ]
  },
  {
   "cell_type": "code",
   "execution_count": 49,
   "metadata": {},
   "outputs": [
    {
     "data": {
      "text/html": [
       "<div>\n",
       "<style scoped>\n",
       "    .dataframe tbody tr th:only-of-type {\n",
       "        vertical-align: middle;\n",
       "    }\n",
       "\n",
       "    .dataframe tbody tr th {\n",
       "        vertical-align: top;\n",
       "    }\n",
       "\n",
       "    .dataframe thead th {\n",
       "        text-align: right;\n",
       "    }\n",
       "</style>\n",
       "<table border=\"1\" class=\"dataframe\">\n",
       "  <thead>\n",
       "    <tr style=\"text-align: right;\">\n",
       "      <th></th>\n",
       "      <th>Stock Price</th>\n",
       "      <th>Return</th>\n",
       "    </tr>\n",
       "  </thead>\n",
       "  <tbody>\n",
       "    <tr>\n",
       "      <th>0</th>\n",
       "      <td>2574.215022</td>\n",
       "      <td>-0.009536</td>\n",
       "    </tr>\n",
       "    <tr>\n",
       "      <th>1</th>\n",
       "      <td>2434.414702</td>\n",
       "      <td>0.001482</td>\n",
       "    </tr>\n",
       "    <tr>\n",
       "      <th>2</th>\n",
       "      <td>3000.373736</td>\n",
       "      <td>0.001958</td>\n",
       "    </tr>\n",
       "    <tr>\n",
       "      <th>3</th>\n",
       "      <td>4580.039981</td>\n",
       "      <td>0.001672</td>\n",
       "    </tr>\n",
       "    <tr>\n",
       "      <th>4</th>\n",
       "      <td>5317.152564</td>\n",
       "      <td>0.001784</td>\n",
       "    </tr>\n",
       "  </tbody>\n",
       "</table>\n",
       "</div>"
      ],
      "text/plain": [
       "   Stock Price    Return\n",
       "0  2574.215022 -0.009536\n",
       "1  2434.414702  0.001482\n",
       "2  3000.373736  0.001958\n",
       "3  4580.039981  0.001672\n",
       "4  5317.152564  0.001784"
      ]
     },
     "execution_count": 49,
     "metadata": {},
     "output_type": "execute_result"
    }
   ],
   "source": [
    "df_GARCH.head()"
   ]
  },
  {
   "cell_type": "code",
   "execution_count": 50,
   "metadata": {},
   "outputs": [
    {
     "data": {
      "text/html": [
       "<div>\n",
       "<style scoped>\n",
       "    .dataframe tbody tr th:only-of-type {\n",
       "        vertical-align: middle;\n",
       "    }\n",
       "\n",
       "    .dataframe tbody tr th {\n",
       "        vertical-align: top;\n",
       "    }\n",
       "\n",
       "    .dataframe thead th {\n",
       "        text-align: right;\n",
       "    }\n",
       "</style>\n",
       "<table border=\"1\" class=\"dataframe\">\n",
       "  <thead>\n",
       "    <tr style=\"text-align: right;\">\n",
       "      <th></th>\n",
       "      <th>Stock Price</th>\n",
       "      <th>Return</th>\n",
       "    </tr>\n",
       "  </thead>\n",
       "  <tbody>\n",
       "    <tr>\n",
       "      <th>count</th>\n",
       "      <td>2.000000e+05</td>\n",
       "      <td>200000.000000</td>\n",
       "    </tr>\n",
       "    <tr>\n",
       "      <th>mean</th>\n",
       "      <td>3.056201e+03</td>\n",
       "      <td>0.000279</td>\n",
       "    </tr>\n",
       "    <tr>\n",
       "      <th>std</th>\n",
       "      <td>1.605530e+03</td>\n",
       "      <td>0.007723</td>\n",
       "    </tr>\n",
       "    <tr>\n",
       "      <th>min</th>\n",
       "      <td>5.470252e-13</td>\n",
       "      <td>-0.060581</td>\n",
       "    </tr>\n",
       "    <tr>\n",
       "      <th>25%</th>\n",
       "      <td>2.250176e+03</td>\n",
       "      <td>-0.004460</td>\n",
       "    </tr>\n",
       "    <tr>\n",
       "      <th>50%</th>\n",
       "      <td>2.847100e+03</td>\n",
       "      <td>0.000256</td>\n",
       "    </tr>\n",
       "    <tr>\n",
       "      <th>75%</th>\n",
       "      <td>3.571770e+03</td>\n",
       "      <td>0.005028</td>\n",
       "    </tr>\n",
       "    <tr>\n",
       "      <th>max</th>\n",
       "      <td>2.363741e+05</td>\n",
       "      <td>0.084447</td>\n",
       "    </tr>\n",
       "  </tbody>\n",
       "</table>\n",
       "</div>"
      ],
      "text/plain": [
       "        Stock Price         Return\n",
       "count  2.000000e+05  200000.000000\n",
       "mean   3.056201e+03       0.000279\n",
       "std    1.605530e+03       0.007723\n",
       "min    5.470252e-13      -0.060581\n",
       "25%    2.250176e+03      -0.004460\n",
       "50%    2.847100e+03       0.000256\n",
       "75%    3.571770e+03       0.005028\n",
       "max    2.363741e+05       0.084447"
      ]
     },
     "execution_count": 50,
     "metadata": {},
     "output_type": "execute_result"
    }
   ],
   "source": [
    "df_GARCH.describe()"
   ]
  },
  {
   "cell_type": "code",
   "execution_count": 63,
   "metadata": {},
   "outputs": [
    {
     "data": {
      "text/plain": [
       "Text(0, 0.5, 'Frequency')"
      ]
     },
     "execution_count": 63,
     "metadata": {},
     "output_type": "execute_result"
    },
    {
     "data": {
      "image/png": "[encoded data removed]",
      "text/plain": [
       "<Figure size 576x432 with 1 Axes>"
      ]
     },
     "metadata": {
      "needs_background": "light"
     },
     "output_type": "display_data"
    }
   ],
   "source": [
    "plt.figure(figsize=(8, 6))\n",
    "df_GARCH['Return'].hist(bins=2000, grid=False)\n",
    "plt.title('Final annual returns for GARCH(1,1) model', fontsize=18, fontweight='bold', pad=20)\n",
    "plt.xlabel(\"Return\", fontsize=15)\n",
    "plt.ylabel(\"Frequency\",fontsize=15)"
   ]
  },
  {
   "cell_type": "code",
   "execution_count": 52,
   "metadata": {},
   "outputs": [
    {
     "name": "stdout",
     "output_type": "stream",
     "text": [
      "GARCH variance:  5.9637425893224636e-05\n",
      "GARCH skew:  0.022160820707396566\n",
      "GARCH kurtosis:  1.8173970802412716\n"
     ]
    }
   ],
   "source": [
    "#Print the variance, skew and kurtosis of this simulated return distribution\n",
    "print('GARCH variance: ', df_GARCH['Return'].var())\n",
    "print('GARCH skew: ', df_GARCH['Return'].skew())\n",
    "print('GARCH kurtosis: ', df_GARCH['Return'].kurtosis())"
   ]
  },
  {
   "cell_type": "code",
   "execution_count": null,
   "metadata": {},
   "outputs": [],
   "source": []
  },
  {
   "cell_type": "code",
   "execution_count": null,
   "metadata": {},
   "outputs": [],
   "source": []
  },
  {
   "cell_type": "markdown",
   "metadata": {},
   "source": [
    "## ASYMMETRIC GARCH model"
   ]
  },
  {
   "cell_type": "markdown",
   "metadata": {},
   "source": [
    "#### For the asymmetric GARCH model we use the parameters calibrated on Q2. We use the last S&P data point for the initial stock price, which was \"S_old = 2850.13\", and its volatility of 0.10659 as today's volatility. In this simulation, we conduct 200.000 simulations to obtain a better performance."
   ]
  },
  {
   "cell_type": "code",
   "execution_count": 100,
   "metadata": {},
   "outputs": [],
   "source": [
    "import random\n",
    "import math\n",
    "\n",
    "Stock_price_asyGARCH = []\n",
    "Return_asyGARCH = []\n",
    "Variance = []\n",
    "\n",
    "mu = 0.07\n",
    "number_of_days = 252\n",
    "\n",
    "\n",
    "w = 0.00000064573\n",
    "alpha = 0.183318\n",
    "beta = 0.722452\n",
    "kappa = 0.005637\n",
    "\n",
    "for i in range(200000):\n",
    "    S_old = 2850.13\n",
    "    Sigma_old = 0.10659\n",
    "    \n",
    "    for j in range(0, number_of_days):\n",
    "        phi = random.normalvariate(0, 1)\n",
    "        S_new = S_old*math.exp((mu/252 - 0.5*Sigma_old**2) + Sigma_old*phi)\n",
    "        \n",
    "        if (S_old == 0.0):                  # avoid divisions by 0\n",
    "            continue;\n",
    "                \n",
    "        variance = w + alpha*(((S_new - S_old)/S_old - kappa)**2) + beta*(Sigma_old**2)\n",
    "        Return = (S_new - S_old)/S_old\n",
    "        \n",
    "        Sigma_old = math.sqrt(variance)\n",
    "        S_old = S_new\n",
    "    \n",
    "    Stock_price_asyGARCH.append(S_new)\n",
    "    Return_asyGARCH.append(Return)"
   ]
  },
  {
   "cell_type": "code",
   "execution_count": 101,
   "metadata": {},
   "outputs": [],
   "source": [
    "df_asyGARCH = pd.DataFrame(data={\"Stock Price\": Stock_price_asyGARCH, \"Return\": Return_asyGARCH})\n",
    "df_asyGARCH.to_csv(\"./asyGARCH.csv\", index=False)    \n"
   ]
  },
  {
   "cell_type": "code",
   "execution_count": 102,
   "metadata": {},
   "outputs": [
    {
     "data": {
      "text/html": [
       "<div>\n",
       "<style scoped>\n",
       "    .dataframe tbody tr th:only-of-type {\n",
       "        vertical-align: middle;\n",
       "    }\n",
       "\n",
       "    .dataframe tbody tr th {\n",
       "        vertical-align: top;\n",
       "    }\n",
       "\n",
       "    .dataframe thead th {\n",
       "        text-align: right;\n",
       "    }\n",
       "</style>\n",
       "<table border=\"1\" class=\"dataframe\">\n",
       "  <thead>\n",
       "    <tr style=\"text-align: right;\">\n",
       "      <th></th>\n",
       "      <th>Stock Price</th>\n",
       "      <th>Return</th>\n",
       "    </tr>\n",
       "  </thead>\n",
       "  <tbody>\n",
       "    <tr>\n",
       "      <th>0</th>\n",
       "      <td>2337.319829</td>\n",
       "      <td>0.014565</td>\n",
       "    </tr>\n",
       "    <tr>\n",
       "      <th>1</th>\n",
       "      <td>2671.887065</td>\n",
       "      <td>0.002389</td>\n",
       "    </tr>\n",
       "    <tr>\n",
       "      <th>2</th>\n",
       "      <td>2572.063304</td>\n",
       "      <td>0.008283</td>\n",
       "    </tr>\n",
       "    <tr>\n",
       "      <th>3</th>\n",
       "      <td>937.011459</td>\n",
       "      <td>0.001133</td>\n",
       "    </tr>\n",
       "    <tr>\n",
       "      <th>4</th>\n",
       "      <td>2900.976417</td>\n",
       "      <td>-0.009006</td>\n",
       "    </tr>\n",
       "  </tbody>\n",
       "</table>\n",
       "</div>"
      ],
      "text/plain": [
       "   Stock Price    Return\n",
       "0  2337.319829  0.014565\n",
       "1  2671.887065  0.002389\n",
       "2  2572.063304  0.008283\n",
       "3   937.011459  0.001133\n",
       "4  2900.976417 -0.009006"
      ]
     },
     "execution_count": 102,
     "metadata": {},
     "output_type": "execute_result"
    }
   ],
   "source": [
    "df_asyGARCH.head()"
   ]
  },
  {
   "cell_type": "code",
   "execution_count": 103,
   "metadata": {},
   "outputs": [
    {
     "data": {
      "text/html": [
       "<div>\n",
       "<style scoped>\n",
       "    .dataframe tbody tr th:only-of-type {\n",
       "        vertical-align: middle;\n",
       "    }\n",
       "\n",
       "    .dataframe tbody tr th {\n",
       "        vertical-align: top;\n",
       "    }\n",
       "\n",
       "    .dataframe thead th {\n",
       "        text-align: right;\n",
       "    }\n",
       "</style>\n",
       "<table border=\"1\" class=\"dataframe\">\n",
       "  <thead>\n",
       "    <tr style=\"text-align: right;\">\n",
       "      <th></th>\n",
       "      <th>Stock Price</th>\n",
       "      <th>Return</th>\n",
       "    </tr>\n",
       "  </thead>\n",
       "  <tbody>\n",
       "    <tr>\n",
       "      <th>count</th>\n",
       "      <td>200000.000000</td>\n",
       "      <td>200000.000000</td>\n",
       "    </tr>\n",
       "    <tr>\n",
       "      <th>mean</th>\n",
       "      <td>3053.746767</td>\n",
       "      <td>0.000276</td>\n",
       "    </tr>\n",
       "    <tr>\n",
       "      <th>std</th>\n",
       "      <td>1240.533006</td>\n",
       "      <td>0.007907</td>\n",
       "    </tr>\n",
       "    <tr>\n",
       "      <th>min</th>\n",
       "      <td>0.295093</td>\n",
       "      <td>-0.076291</td>\n",
       "    </tr>\n",
       "    <tr>\n",
       "      <th>25%</th>\n",
       "      <td>2314.109298</td>\n",
       "      <td>-0.004277</td>\n",
       "    </tr>\n",
       "    <tr>\n",
       "      <th>50%</th>\n",
       "      <td>2893.417091</td>\n",
       "      <td>0.000243</td>\n",
       "    </tr>\n",
       "    <tr>\n",
       "      <th>75%</th>\n",
       "      <td>3574.042904</td>\n",
       "      <td>0.004787</td>\n",
       "    </tr>\n",
       "    <tr>\n",
       "      <th>max</th>\n",
       "      <td>86620.398621</td>\n",
       "      <td>0.087881</td>\n",
       "    </tr>\n",
       "  </tbody>\n",
       "</table>\n",
       "</div>"
      ],
      "text/plain": [
       "         Stock Price         Return\n",
       "count  200000.000000  200000.000000\n",
       "mean     3053.746767       0.000276\n",
       "std      1240.533006       0.007907\n",
       "min         0.295093      -0.076291\n",
       "25%      2314.109298      -0.004277\n",
       "50%      2893.417091       0.000243\n",
       "75%      3574.042904       0.004787\n",
       "max     86620.398621       0.087881"
      ]
     },
     "execution_count": 103,
     "metadata": {},
     "output_type": "execute_result"
    }
   ],
   "source": [
    "df_asyGARCH.describe()"
   ]
  },
  {
   "cell_type": "code",
   "execution_count": 104,
   "metadata": {},
   "outputs": [
    {
     "data": {
      "text/plain": [
       "Text(0, 0.5, 'Frequency')"
      ]
     },
     "execution_count": 104,
     "metadata": {},
     "output_type": "execute_result"
    },
    {
     "data": {
      "image/png": "[encoded data removed]",
      "text/plain": [
       "<Figure size 576x432 with 1 Axes>"
      ]
     },
     "metadata": {
      "needs_background": "light"
     },
     "output_type": "display_data"
    }
   ],
   "source": [
    "plt.figure(figsize=(8, 6))\n",
    "df_asyGARCH['Return'].hist(bins=2000, grid=False)\n",
    "plt.title('Final annual returns for asymmetric GARCH model', fontsize=18, fontweight='bold', pad=20)\n",
    "plt.xlabel(\"Return\", fontsize=15)\n",
    "plt.ylabel(\"Frequency\",fontsize=15)"
   ]
  },
  {
   "cell_type": "code",
   "execution_count": 105,
   "metadata": {},
   "outputs": [
    {
     "name": "stdout",
     "output_type": "stream",
     "text": [
      "Asymmetric GARCH variance:  6.251658551051644e-05\n",
      "Asymmetric GARCH skew:  0.08068632116652012\n",
      "Asymmetric GARCH kurtosis:  2.9912942154787188\n"
     ]
    }
   ],
   "source": [
    "#Print the variance, skew and kurtosis of this simulated return distribution\n",
    "print('Asymmetric GARCH variance: ', df_asyGARCH['Return'].var())\n",
    "print('Asymmetric GARCH skew: ', df_asyGARCH['Return'].skew())\n",
    "print('Asymmetric GARCH kurtosis: ', df_asyGARCH['Return'].kurtosis())"
   ]
  },
  {
   "cell_type": "markdown",
   "metadata": {},
   "source": [
    "#### Write a table that contains the variance, skew and kurtosis of the simulated returns of each model."
   ]
  },
  {
   "cell_type": "code",
   "execution_count": 106,
   "metadata": {},
   "outputs": [
    {
     "data": {
      "text/html": [
       "<div>\n",
       "<style scoped>\n",
       "    .dataframe tbody tr th:only-of-type {\n",
       "        vertical-align: middle;\n",
       "    }\n",
       "\n",
       "    .dataframe tbody tr th {\n",
       "        vertical-align: top;\n",
       "    }\n",
       "\n",
       "    .dataframe thead th {\n",
       "        text-align: right;\n",
       "    }\n",
       "</style>\n",
       "<table border=\"1\" class=\"dataframe\">\n",
       "  <thead>\n",
       "    <tr style=\"text-align: right;\">\n",
       "      <th></th>\n",
       "      <th>Variance</th>\n",
       "      <th>Skew</th>\n",
       "      <th>Kurtosis</th>\n",
       "    </tr>\n",
       "  </thead>\n",
       "  <tbody>\n",
       "    <tr>\n",
       "      <th>EWMA</th>\n",
       "      <td>0.010055</td>\n",
       "      <td>7.888961</td>\n",
       "      <td>433.737181</td>\n",
       "    </tr>\n",
       "    <tr>\n",
       "      <th>GARCH(1,1)</th>\n",
       "      <td>0.000060</td>\n",
       "      <td>0.022161</td>\n",
       "      <td>1.817397</td>\n",
       "    </tr>\n",
       "    <tr>\n",
       "      <th>Asymmetric GARCH</th>\n",
       "      <td>0.000063</td>\n",
       "      <td>0.080686</td>\n",
       "      <td>2.991294</td>\n",
       "    </tr>\n",
       "  </tbody>\n",
       "</table>\n",
       "</div>"
      ],
      "text/plain": [
       "                  Variance      Skew    Kurtosis\n",
       "EWMA              0.010055  7.888961  433.737181\n",
       "GARCH(1,1)        0.000060  0.022161    1.817397\n",
       "Asymmetric GARCH  0.000063  0.080686    2.991294"
      ]
     },
     "execution_count": 106,
     "metadata": {},
     "output_type": "execute_result"
    }
   ],
   "source": [
    "df_statistics = pd.DataFrame({'Variance': [df_EWMA['Return'].var(), df_GARCH['Return'].var(), df_asyGARCH['Return'].var()],\n",
    "                        'Skew': [df_EWMA['Return'].skew(), df_GARCH['Return'].skew(), df_asyGARCH['Return'].skew()],\n",
    "                        'Kurtosis': [df_EWMA['Return'].kurtosis(), df_GARCH['Return'].kurtosis(), df_asyGARCH['Return'].kurtosis()]},\n",
    "                        index=['EWMA', 'GARCH(1,1)', 'Asymmetric GARCH'])\n",
    "\n",
    "df_statistics.head()"
   ]
  },
  {
   "cell_type": "code",
   "execution_count": 107,
   "metadata": {},
   "outputs": [
    {
     "data": {
      "image/png": "[encoded data removed]",
      "text/plain": [
       "<Figure size 1296x288 with 3 Axes>"
      ]
     },
     "metadata": {
      "needs_background": "light"
     },
     "output_type": "display_data"
    }
   ],
   "source": [
    "Fig6 = plt.figure(figsize=(18,4))\n",
    "\n",
    "models = [\"EWMA\", \"GARCH(1,1)\", \"Asymmetric GARCH\"]\n",
    "Variances = [df_EWMA['Return'].var(), df_GARCH['Return'].var(), df_asyGARCH['Return'].var()]\n",
    "Skews = [df_EWMA['Return'].skew(), df_GARCH['Return'].skew(), df_asyGARCH['Return'].skew()]\n",
    "Kurtosis = [df_EWMA['Return'].kurtosis(), df_GARCH['Return'].kurtosis(), df_asyGARCH['Return'].kurtosis()]\n",
    "\n",
    "# Draw first subplot \n",
    "plt.subplot(1, 3, 1)\n",
    "barlist_1 = plt.bar(models, Variances, width=0.5, alpha=1.00)\n",
    "barlist_1[0].set_color('r')\n",
    "barlist_1[1].set_color('g')\n",
    "barlist_1[2].set_color('b')\n",
    "plt.xlabel('Volatility Model', fontsize=20)\n",
    "plt.ylabel('Variance', fontsize=20)\n",
    "plt.title('Comparison of Variances', fontsize=15, fontweight='bold', pad=25)\n",
    "\n",
    "# Draw second subplot \n",
    "plt.subplot(1, 3, 2)\n",
    "barlist_2 = plt.bar(models, Skews, width=0.5, alpha=1.00)\n",
    "barlist_2[0].set_color('r')\n",
    "barlist_2[1].set_color('g')\n",
    "barlist_2[2].set_color('b')\n",
    "plt.xlabel('Volatility Model', fontsize=20)\n",
    "plt.ylabel('Skew', fontsize=20)\n",
    "plt.title('Comparison of Skews', fontsize=15, fontweight='bold', pad=25)\n",
    "\n",
    "# Draw Third subplot \n",
    "plt.subplot(1, 3, 3)\n",
    "barlist_3 = plt.bar(models, Kurtosis, width=0.5, alpha=1.00)\n",
    "barlist_3[0].set_color('r')\n",
    "barlist_3[1].set_color('g')\n",
    "barlist_3[2].set_color('b')\n",
    "plt.xlabel('Volatility Model', fontsize=20)\n",
    "plt.ylabel('Kurtosis', fontsize=20)\n",
    "plt.title('Comparison of Kurtosis', fontsize=15, fontweight='bold', pad=25)\n",
    "\n",
    "\n",
    "plt.show()"
   ]
  },
  {
   "cell_type": "code",
   "execution_count": 108,
   "metadata": {},
   "outputs": [],
   "source": [
    "Fig6.savefig('Model_comparisons.pdf')"
   ]
  },
  {
   "cell_type": "code",
   "execution_count": null,
   "metadata": {},
   "outputs": [],
   "source": []
  },
  {
   "cell_type": "markdown",
   "metadata": {},
   "source": [
    "# Conclusions\n",
    "\n",
    "As a conclusion, we simulated the S&P using each of the volatility models we calibrated for 1 year into the future using daily steps. In order to have a better performance, we conducted 200.000 simulations. As can be seen here, for each model we graph a histogram plot of the final annual returns to compare to a normal distribution we built using the same number of simulations and then calculated the variance, skew and kurtosis of the simulated returns distributions. \n",
    "\n",
    "As a result, we saw that EWMA model has the highest variance together with a kurtosis highly above 0 compared to the GARCH(1,1) and asymmetric GARCH models. Thus, we conclude that for this S&P analysis, EWMA model is highly risky compared to the others. The returns distributions of the GARCH models are not too different, but since the basic GARCH(1,1) model has the smallest kurtosis and smallest skew, it is the model that is closest to a normal distribution model."
   ]
  }
 ],
 "metadata": {
  "kernelspec": {
   "display_name": "Python 3",
   "language": "python",
   "name": "python3"
  },
  "language_info": {
   "codemirror_mode": {
    "name": "ipython",
    "version": 3
   },
   "file_extension": ".py",
   "mimetype": "text/x-python",
   "name": "python",
   "nbconvert_exporter": "python",
   "pygments_lexer": "ipython3",
   "version": "3.8.3"
  }
 },
 "nbformat": 4,
 "nbformat_minor": 4
}
