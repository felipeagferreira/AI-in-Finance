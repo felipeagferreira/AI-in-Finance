{
 "cells": [
  {
   "cell_type": "code",
   "execution_count": 1,
   "metadata": {
    "executionInfo": {
     "elapsed": 332,
     "status": "ok",
     "timestamp": 1622985698267,
     "user": {
      "displayName": "Felipe A. Gomes Ferreira",
      "photoUrl": "",
      "userId": "09095471911889500468"
     },
     "user_tz": 180
    },
    "id": "LeX9pJ6wC_Hh"
   },
   "outputs": [],
   "source": []
  },
  {
   "cell_type": "code",
   "execution_count": 2,
   "metadata": {
    "executionInfo": {
     "elapsed": 5,
     "status": "ok",
     "timestamp": 1622985698691,
     "user": {
      "displayName": "Felipe A. Gomes Ferreira",
      "photoUrl": "",
      "userId": "09095471911889500468"
     },
     "user_tz": 180
    },
    "id": "bHOsX9czC_Hh"
   },
   "outputs": [],
   "source": [
    "import pandas as pd\n",
    "df = pd.read_csv('Bankruptcy_data_Final.csv')"
   ]
  },
  {
   "cell_type": "code",
   "execution_count": 3,
   "metadata": {
    "colab": {
     "base_uri": "https://localhost:8080/"
    },
    "executionInfo": {
     "elapsed": 4,
     "status": "ok",
     "timestamp": 1622985698691,
     "user": {
      "displayName": "Felipe A. Gomes Ferreira",
      "photoUrl": "",
      "userId": "09095471911889500468"
     },
     "user_tz": 180
    },
    "id": "YAXfqF4UC_Hi",
    "outputId": "66da717b-c4f0-4a44-c9c2-a21a15ae8338"
   },
   "outputs": [
    {
     "data": {
      "text/plain": [
       "(92872, 13)"
      ]
     },
     "execution_count": 3,
     "metadata": {
      "tags": []
     },
     "output_type": "execute_result"
    }
   ],
   "source": [
    "df.shape"
   ]
  },
  {
   "cell_type": "code",
   "execution_count": 4,
   "metadata": {
    "colab": {
     "base_uri": "https://localhost:8080/",
     "height": 258
    },
    "executionInfo": {
     "elapsed": 10,
     "status": "ok",
     "timestamp": 1622985698997,
     "user": {
      "displayName": "Felipe A. Gomes Ferreira",
      "photoUrl": "",
      "userId": "09095471911889500468"
     },
     "user_tz": 180
    },
    "id": "NzhHDNoTC_Hk",
    "outputId": "9f916794-8085-4e5e-93b9-df26b5e59ff3"
   },
   "outputs": [
    {
     "data": {
      "text/html": [
       "<div>\n",
       "<style scoped>\n",
       "    .dataframe tbody tr th:only-of-type {\n",
       "        vertical-align: middle;\n",
       "    }\n",
       "\n",
       "    .dataframe tbody tr th {\n",
       "        vertical-align: top;\n",
       "    }\n",
       "\n",
       "    .dataframe thead th {\n",
       "        text-align: right;\n",
       "    }\n",
       "</style>\n",
       "<table border=\"1\" class=\"dataframe\">\n",
       "  <thead>\n",
       "    <tr style=\"text-align: right;\">\n",
       "      <th></th>\n",
       "      <th>EPS</th>\n",
       "      <th>Liquidity</th>\n",
       "      <th>Profitability</th>\n",
       "      <th>Productivity</th>\n",
       "      <th>Leverage Ratio</th>\n",
       "      <th>Asset Turnover</th>\n",
       "      <th>Operational Margin</th>\n",
       "      <th>Return on Equity</th>\n",
       "      <th>Market Book Ratio</th>\n",
       "      <th>Assets Growth</th>\n",
       "      <th>Sales Growth</th>\n",
       "      <th>Employee Growth</th>\n",
       "      <th>BK</th>\n",
       "    </tr>\n",
       "  </thead>\n",
       "  <tbody>\n",
       "    <tr>\n",
       "      <th>0</th>\n",
       "      <td>1.58</td>\n",
       "      <td>0.36</td>\n",
       "      <td>0.18</td>\n",
       "      <td>0.13</td>\n",
       "      <td>1.33</td>\n",
       "      <td>1.77</td>\n",
       "      <td>0.07</td>\n",
       "      <td>0.15</td>\n",
       "      <td>2.22</td>\n",
       "      <td>NaN</td>\n",
       "      <td>NaN</td>\n",
       "      <td>NaN</td>\n",
       "      <td>0</td>\n",
       "    </tr>\n",
       "    <tr>\n",
       "      <th>1</th>\n",
       "      <td>1.41</td>\n",
       "      <td>0.36</td>\n",
       "      <td>0.19</td>\n",
       "      <td>0.12</td>\n",
       "      <td>1.31</td>\n",
       "      <td>1.59</td>\n",
       "      <td>0.07</td>\n",
       "      <td>0.13</td>\n",
       "      <td>2.41</td>\n",
       "      <td>0.126319</td>\n",
       "      <td>0.014278</td>\n",
       "      <td>0.040179</td>\n",
       "      <td>0</td>\n",
       "    </tr>\n",
       "    <tr>\n",
       "      <th>2</th>\n",
       "      <td>0.31</td>\n",
       "      <td>0.32</td>\n",
       "      <td>0.13</td>\n",
       "      <td>0.08</td>\n",
       "      <td>1.03</td>\n",
       "      <td>1.55</td>\n",
       "      <td>0.05</td>\n",
       "      <td>0.04</td>\n",
       "      <td>2.56</td>\n",
       "      <td>0.368077</td>\n",
       "      <td>0.327909</td>\n",
       "      <td>0.566524</td>\n",
       "      <td>0</td>\n",
       "    </tr>\n",
       "    <tr>\n",
       "      <th>3</th>\n",
       "      <td>0.71</td>\n",
       "      <td>0.28</td>\n",
       "      <td>0.14</td>\n",
       "      <td>0.08</td>\n",
       "      <td>0.80</td>\n",
       "      <td>1.39</td>\n",
       "      <td>0.06</td>\n",
       "      <td>0.05</td>\n",
       "      <td>5.28</td>\n",
       "      <td>-0.020809</td>\n",
       "      <td>-0.118904</td>\n",
       "      <td>-0.095890</td>\n",
       "      <td>0</td>\n",
       "    </tr>\n",
       "    <tr>\n",
       "      <th>4</th>\n",
       "      <td>0.75</td>\n",
       "      <td>0.41</td>\n",
       "      <td>0.13</td>\n",
       "      <td>0.08</td>\n",
       "      <td>0.20</td>\n",
       "      <td>1.30</td>\n",
       "      <td>0.06</td>\n",
       "      <td>0.04</td>\n",
       "      <td>8.68</td>\n",
       "      <td>0.233089</td>\n",
       "      <td>0.146807</td>\n",
       "      <td>0.053030</td>\n",
       "      <td>0</td>\n",
       "    </tr>\n",
       "  </tbody>\n",
       "</table>\n",
       "</div>"
      ],
      "text/plain": [
       "    EPS  Liquidity  Profitability  ...  Sales Growth  Employee Growth  BK\n",
       "0  1.58       0.36           0.18  ...           NaN              NaN   0\n",
       "1  1.41       0.36           0.19  ...      0.014278         0.040179   0\n",
       "2  0.31       0.32           0.13  ...      0.327909         0.566524   0\n",
       "3  0.71       0.28           0.14  ...     -0.118904        -0.095890   0\n",
       "4  0.75       0.41           0.13  ...      0.146807         0.053030   0\n",
       "\n",
       "[5 rows x 13 columns]"
      ]
     },
     "execution_count": 4,
     "metadata": {
      "tags": []
     },
     "output_type": "execute_result"
    }
   ],
   "source": [
    "df.head()"
   ]
  },
  {
   "cell_type": "code",
   "execution_count": 5,
   "metadata": {
    "colab": {
     "base_uri": "https://localhost:8080/"
    },
    "executionInfo": {
     "elapsed": 9,
     "status": "ok",
     "timestamp": 1622985698998,
     "user": {
      "displayName": "Felipe A. Gomes Ferreira",
      "photoUrl": "",
      "userId": "09095471911889500468"
     },
     "user_tz": 180
    },
    "id": "RDY7TuC4C_Hl",
    "outputId": "9f42ba37-301d-4e15-c0d4-3e0f28fa3d8c"
   },
   "outputs": [
    {
     "name": "stdout",
     "output_type": "stream",
     "text": [
      "<class 'pandas.core.frame.DataFrame'>\n",
      "RangeIndex: 92872 entries, 0 to 92871\n",
      "Data columns (total 13 columns):\n",
      " #   Column              Non-Null Count  Dtype  \n",
      "---  ------              --------------  -----  \n",
      " 0   EPS                 92867 non-null  float64\n",
      " 1   Liquidity           92625 non-null  float64\n",
      " 2   Profitability       92625 non-null  float64\n",
      " 3   Productivity        92625 non-null  float64\n",
      " 4   Leverage Ratio      92846 non-null  float64\n",
      " 5   Asset Turnover      92625 non-null  float64\n",
      " 6   Operational Margin  87315 non-null  float64\n",
      " 7   Return on Equity    92864 non-null  float64\n",
      " 8   Market Book Ratio   92815 non-null  float64\n",
      " 9   Assets Growth       86171 non-null  float64\n",
      " 10  Sales Growth        86171 non-null  float64\n",
      " 11  Employee Growth     85862 non-null  float64\n",
      " 12  BK                  92872 non-null  int64  \n",
      "dtypes: float64(12), int64(1)\n",
      "memory usage: 9.2 MB\n"
     ]
    }
   ],
   "source": [
    "df.info()"
   ]
  },
  {
   "cell_type": "code",
   "execution_count": 6,
   "metadata": {
    "colab": {
     "base_uri": "https://localhost:8080/",
     "height": 452
    },
    "executionInfo": {
     "elapsed": 8,
     "status": "ok",
     "timestamp": 1622985698999,
     "user": {
      "displayName": "Felipe A. Gomes Ferreira",
      "photoUrl": "",
      "userId": "09095471911889500468"
     },
     "user_tz": 180
    },
    "id": "pyh_nYtyC_Hm",
    "outputId": "d57f6bee-46b7-4058-df74-8f731708dd08"
   },
   "outputs": [
    {
     "data": {
      "text/html": [
       "<div>\n",
       "<style scoped>\n",
       "    .dataframe tbody tr th:only-of-type {\n",
       "        vertical-align: middle;\n",
       "    }\n",
       "\n",
       "    .dataframe tbody tr th {\n",
       "        vertical-align: top;\n",
       "    }\n",
       "\n",
       "    .dataframe thead th {\n",
       "        text-align: right;\n",
       "    }\n",
       "</style>\n",
       "<table border=\"1\" class=\"dataframe\">\n",
       "  <thead>\n",
       "    <tr style=\"text-align: right;\">\n",
       "      <th></th>\n",
       "      <th>count</th>\n",
       "      <th>mean</th>\n",
       "      <th>std</th>\n",
       "      <th>min</th>\n",
       "      <th>25%</th>\n",
       "      <th>50%</th>\n",
       "      <th>75%</th>\n",
       "      <th>max</th>\n",
       "    </tr>\n",
       "  </thead>\n",
       "  <tbody>\n",
       "    <tr>\n",
       "      <th>EPS</th>\n",
       "      <td>92867.0</td>\n",
       "      <td>-14.461355</td>\n",
       "      <td>2195.467288</td>\n",
       "      <td>-3.840000e+05</td>\n",
       "      <td>-0.140000</td>\n",
       "      <td>0.330000</td>\n",
       "      <td>1.530000</td>\n",
       "      <td>55339.00</td>\n",
       "    </tr>\n",
       "    <tr>\n",
       "      <th>Liquidity</th>\n",
       "      <td>92625.0</td>\n",
       "      <td>-2.631237</td>\n",
       "      <td>121.610921</td>\n",
       "      <td>-2.596852e+04</td>\n",
       "      <td>0.020000</td>\n",
       "      <td>0.190000</td>\n",
       "      <td>0.400000</td>\n",
       "      <td>1.00</td>\n",
       "    </tr>\n",
       "    <tr>\n",
       "      <th>Profitability</th>\n",
       "      <td>92625.0</td>\n",
       "      <td>-29.537274</td>\n",
       "      <td>677.230667</td>\n",
       "      <td>-7.968200e+04</td>\n",
       "      <td>-0.640000</td>\n",
       "      <td>0.070000</td>\n",
       "      <td>0.310000</td>\n",
       "      <td>140.58</td>\n",
       "    </tr>\n",
       "    <tr>\n",
       "      <th>Productivity</th>\n",
       "      <td>92625.0</td>\n",
       "      <td>-1.222870</td>\n",
       "      <td>35.885556</td>\n",
       "      <td>-5.093000e+03</td>\n",
       "      <td>-0.060000</td>\n",
       "      <td>0.060000</td>\n",
       "      <td>0.110000</td>\n",
       "      <td>1102.00</td>\n",
       "    </tr>\n",
       "    <tr>\n",
       "      <th>Leverage Ratio</th>\n",
       "      <td>92846.0</td>\n",
       "      <td>1.345316</td>\n",
       "      <td>253.038093</td>\n",
       "      <td>-7.811000e+03</td>\n",
       "      <td>0.000000</td>\n",
       "      <td>0.280000</td>\n",
       "      <td>0.820000</td>\n",
       "      <td>75970.38</td>\n",
       "    </tr>\n",
       "    <tr>\n",
       "      <th>Asset Turnover</th>\n",
       "      <td>92625.0</td>\n",
       "      <td>1.053613</td>\n",
       "      <td>2.115945</td>\n",
       "      <td>-3.159000e+01</td>\n",
       "      <td>0.390000</td>\n",
       "      <td>0.830000</td>\n",
       "      <td>1.390000</td>\n",
       "      <td>276.38</td>\n",
       "    </tr>\n",
       "    <tr>\n",
       "      <th>Operational Margin</th>\n",
       "      <td>87315.0</td>\n",
       "      <td>-7.915485</td>\n",
       "      <td>214.460079</td>\n",
       "      <td>-3.017570e+04</td>\n",
       "      <td>-0.030000</td>\n",
       "      <td>0.060000</td>\n",
       "      <td>0.140000</td>\n",
       "      <td>394.47</td>\n",
       "    </tr>\n",
       "    <tr>\n",
       "      <th>Return on Equity</th>\n",
       "      <td>92864.0</td>\n",
       "      <td>-2.112382</td>\n",
       "      <td>352.596902</td>\n",
       "      <td>-8.887514e+04</td>\n",
       "      <td>-0.080000</td>\n",
       "      <td>0.030000</td>\n",
       "      <td>0.070000</td>\n",
       "      <td>39500.00</td>\n",
       "    </tr>\n",
       "    <tr>\n",
       "      <th>Market Book Ratio</th>\n",
       "      <td>92815.0</td>\n",
       "      <td>358.506265</td>\n",
       "      <td>26063.637981</td>\n",
       "      <td>-3.151500e+06</td>\n",
       "      <td>11.200000</td>\n",
       "      <td>58.280000</td>\n",
       "      <td>240.140000</td>\n",
       "      <td>3455419.33</td>\n",
       "    </tr>\n",
       "    <tr>\n",
       "      <th>Assets Growth</th>\n",
       "      <td>86171.0</td>\n",
       "      <td>1.294075</td>\n",
       "      <td>73.769522</td>\n",
       "      <td>-1.000000e+00</td>\n",
       "      <td>-0.052596</td>\n",
       "      <td>0.051844</td>\n",
       "      <td>0.192062</td>\n",
       "      <td>14231.00</td>\n",
       "    </tr>\n",
       "    <tr>\n",
       "      <th>Sales Growth</th>\n",
       "      <td>86171.0</td>\n",
       "      <td>1.900108</td>\n",
       "      <td>177.632638</td>\n",
       "      <td>-2.743103e+01</td>\n",
       "      <td>-0.033522</td>\n",
       "      <td>0.059733</td>\n",
       "      <td>0.204231</td>\n",
       "      <td>39850.00</td>\n",
       "    </tr>\n",
       "    <tr>\n",
       "      <th>Employee Growth</th>\n",
       "      <td>85862.0</td>\n",
       "      <td>0.343322</td>\n",
       "      <td>14.074156</td>\n",
       "      <td>-1.000000e+00</td>\n",
       "      <td>-0.048107</td>\n",
       "      <td>0.017241</td>\n",
       "      <td>0.130944</td>\n",
       "      <td>2699.00</td>\n",
       "    </tr>\n",
       "    <tr>\n",
       "      <th>BK</th>\n",
       "      <td>92872.0</td>\n",
       "      <td>0.006008</td>\n",
       "      <td>0.077280</td>\n",
       "      <td>0.000000e+00</td>\n",
       "      <td>0.000000</td>\n",
       "      <td>0.000000</td>\n",
       "      <td>0.000000</td>\n",
       "      <td>1.00</td>\n",
       "    </tr>\n",
       "  </tbody>\n",
       "</table>\n",
       "</div>"
      ],
      "text/plain": [
       "                      count        mean  ...         75%         max\n",
       "EPS                 92867.0  -14.461355  ...    1.530000    55339.00\n",
       "Liquidity           92625.0   -2.631237  ...    0.400000        1.00\n",
       "Profitability       92625.0  -29.537274  ...    0.310000      140.58\n",
       "Productivity        92625.0   -1.222870  ...    0.110000     1102.00\n",
       "Leverage Ratio      92846.0    1.345316  ...    0.820000    75970.38\n",
       "Asset Turnover      92625.0    1.053613  ...    1.390000      276.38\n",
       "Operational Margin  87315.0   -7.915485  ...    0.140000      394.47\n",
       "Return on Equity    92864.0   -2.112382  ...    0.070000    39500.00\n",
       "Market Book Ratio   92815.0  358.506265  ...  240.140000  3455419.33\n",
       "Assets Growth       86171.0    1.294075  ...    0.192062    14231.00\n",
       "Sales Growth        86171.0    1.900108  ...    0.204231    39850.00\n",
       "Employee Growth     85862.0    0.343322  ...    0.130944     2699.00\n",
       "BK                  92872.0    0.006008  ...    0.000000        1.00\n",
       "\n",
       "[13 rows x 8 columns]"
      ]
     },
     "execution_count": 6,
     "metadata": {
      "tags": []
     },
     "output_type": "execute_result"
    }
   ],
   "source": [
    "df.describe().T"
   ]
  },
  {
   "cell_type": "code",
   "execution_count": 7,
   "metadata": {
    "executionInfo": {
     "elapsed": 983,
     "status": "ok",
     "timestamp": 1622985699975,
     "user": {
      "displayName": "Felipe A. Gomes Ferreira",
      "photoUrl": "",
      "userId": "09095471911889500468"
     },
     "user_tz": 180
    },
    "id": "DvSG_nVhC_Hn"
   },
   "outputs": [],
   "source": [
    "import numpy as np\n",
    "import matplotlib.pyplot as plt\n",
    "\n",
    "import sklearn\n",
    "import seaborn as sns"
   ]
  },
  {
   "cell_type": "markdown",
   "metadata": {
    "id": "9WhfUQKBC_Hn"
   },
   "source": [
    "## Analysis with Pandas Profiling"
   ]
  },
  {
   "cell_type": "code",
   "execution_count": 8,
   "metadata": {
    "executionInfo": {
     "elapsed": 3,
     "status": "ok",
     "timestamp": 1622985699976,
     "user": {
      "displayName": "Felipe A. Gomes Ferreira",
      "photoUrl": "",
      "userId": "09095471911889500468"
     },
     "user_tz": 180
    },
    "id": "dGllGlqfC_Ho"
   },
   "outputs": [],
   "source": [
    "# import o ProfileReport\n",
    "from pandas_profiling import ProfileReport"
   ]
  },
  {
   "cell_type": "code",
   "execution_count": 9,
   "metadata": {
    "colab": {
     "base_uri": "https://localhost:8080/",
     "height": 680
    },
    "executionInfo": {
     "elapsed": 847,
     "status": "error",
     "timestamp": 1622985700821,
     "user": {
      "displayName": "Felipe A. Gomes Ferreira",
      "photoUrl": "",
      "userId": "09095471911889500468"
     },
     "user_tz": 180
    },
    "id": "hsUgF6opC_Hp",
    "outputId": "a2eb0b17-42ce-477f-f2de-4c292098ed52"
   },
   "outputs": [
    {
     "ename": "TypeError",
     "evalue": "ignored",
     "output_type": "error",
     "traceback": [
      "\u001b[0;31m---------------------------------------------------------------------------\u001b[0m",
      "\u001b[0;31mRemoteTraceback\u001b[0m                           Traceback (most recent call last)",
      "\u001b[0;31mRemoteTraceback\u001b[0m: \n\"\"\"\nTraceback (most recent call last):\n  File \"/usr/lib/python3.7/multiprocessing/pool.py\", line 121, in worker\n    result = (True, func(*args, **kwds))\n  File \"/usr/lib/python3.7/multiprocessing/pool.py\", line 44, in mapstar\n    return list(map(*args))\n  File \"/usr/local/lib/python3.7/dist-packages/pandas_profiling/describe.py\", line 282, in multiprocess_func\n    return x[0], describe_1d(x[1], **kwargs)\n  File \"/usr/local/lib/python3.7/dist-packages/pandas_profiling/describe.py\", line 270, in describe_1d\n    result = result.append(describe_numeric_1d(data, **kwargs))\n  File \"/usr/local/lib/python3.7/dist-packages/pandas_profiling/describe.py\", line 54, in describe_numeric_1d\n    stats['histogram'] = histogram(series, **kwargs)\n  File \"/usr/local/lib/python3.7/dist-packages/pandas_profiling/plot.py\", line 73, in histogram\n    plot = _plot_histogram(series, **kwargs)\nTypeError: _plot_histogram() got an unexpected keyword argument 'title'\n\"\"\"",
      "\nThe above exception was the direct cause of the following exception:\n",
      "\u001b[0;31mTypeError\u001b[0m                                 Traceback (most recent call last)",
      "\u001b[0;32m<ipython-input-9-508c0d3e0809>\u001b[0m in \u001b[0;36m<module>\u001b[0;34m()\u001b[0m\n\u001b[0;32m----> 1\u001b[0;31m \u001b[0mprofile\u001b[0m \u001b[0;34m=\u001b[0m \u001b[0mProfileReport\u001b[0m\u001b[0;34m(\u001b[0m\u001b[0mdf\u001b[0m\u001b[0;34m,\u001b[0m \u001b[0mtitle\u001b[0m\u001b[0;34m=\u001b[0m\u001b[0;34m'Report - Pandas Profiling'\u001b[0m\u001b[0;34m,\u001b[0m \u001b[0mhtml\u001b[0m\u001b[0;34m=\u001b[0m\u001b[0;34m{\u001b[0m\u001b[0;34m'style'\u001b[0m\u001b[0;34m:\u001b[0m\u001b[0;34m{\u001b[0m\u001b[0;34m'full_width'\u001b[0m\u001b[0;34m:\u001b[0m\u001b[0;32mTrue\u001b[0m\u001b[0;34m}\u001b[0m\u001b[0;34m}\u001b[0m\u001b[0;34m)\u001b[0m\u001b[0;34m\u001b[0m\u001b[0;34m\u001b[0m\u001b[0m\n\u001b[0m\u001b[1;32m      2\u001b[0m \u001b[0mprofile\u001b[0m\u001b[0;34m\u001b[0m\u001b[0;34m\u001b[0m\u001b[0m\n",
      "\u001b[0;32m/usr/local/lib/python3.7/dist-packages/pandas_profiling/__init__.py\u001b[0m in \u001b[0;36m__init__\u001b[0;34m(self, df, **kwargs)\u001b[0m\n\u001b[1;32m     64\u001b[0m         \u001b[0msample\u001b[0m \u001b[0;34m=\u001b[0m \u001b[0mkwargs\u001b[0m\u001b[0;34m.\u001b[0m\u001b[0mget\u001b[0m\u001b[0;34m(\u001b[0m\u001b[0;34m'sample'\u001b[0m\u001b[0;34m,\u001b[0m \u001b[0mdf\u001b[0m\u001b[0;34m.\u001b[0m\u001b[0mhead\u001b[0m\u001b[0;34m(\u001b[0m\u001b[0;34m)\u001b[0m\u001b[0;34m)\u001b[0m\u001b[0;34m\u001b[0m\u001b[0;34m\u001b[0m\u001b[0m\n\u001b[1;32m     65\u001b[0m \u001b[0;34m\u001b[0m\u001b[0m\n\u001b[0;32m---> 66\u001b[0;31m         \u001b[0mdescription_set\u001b[0m \u001b[0;34m=\u001b[0m \u001b[0mdescribe\u001b[0m\u001b[0;34m(\u001b[0m\u001b[0mdf\u001b[0m\u001b[0;34m,\u001b[0m \u001b[0;34m**\u001b[0m\u001b[0mkwargs\u001b[0m\u001b[0;34m)\u001b[0m\u001b[0;34m\u001b[0m\u001b[0;34m\u001b[0m\u001b[0m\n\u001b[0m\u001b[1;32m     67\u001b[0m \u001b[0;34m\u001b[0m\u001b[0m\n\u001b[1;32m     68\u001b[0m         self.html = to_html(sample,\n",
      "\u001b[0;32m/usr/local/lib/python3.7/dist-packages/pandas_profiling/describe.py\u001b[0m in \u001b[0;36mdescribe\u001b[0;34m(df, bins, check_correlation, correlation_threshold, correlation_overrides, check_recoded, pool_size, **kwargs)\u001b[0m\n\u001b[1;32m    349\u001b[0m     \u001b[0mpool\u001b[0m \u001b[0;34m=\u001b[0m \u001b[0mmultiprocessing\u001b[0m\u001b[0;34m.\u001b[0m\u001b[0mPool\u001b[0m\u001b[0;34m(\u001b[0m\u001b[0mpool_size\u001b[0m\u001b[0;34m)\u001b[0m\u001b[0;34m\u001b[0m\u001b[0;34m\u001b[0m\u001b[0m\n\u001b[1;32m    350\u001b[0m     \u001b[0mlocal_multiprocess_func\u001b[0m \u001b[0;34m=\u001b[0m \u001b[0mpartial\u001b[0m\u001b[0;34m(\u001b[0m\u001b[0mmultiprocess_func\u001b[0m\u001b[0;34m,\u001b[0m \u001b[0;34m**\u001b[0m\u001b[0mkwargs\u001b[0m\u001b[0;34m)\u001b[0m\u001b[0;34m\u001b[0m\u001b[0;34m\u001b[0m\u001b[0m\n\u001b[0;32m--> 351\u001b[0;31m     \u001b[0mldesc\u001b[0m \u001b[0;34m=\u001b[0m \u001b[0;34m{\u001b[0m\u001b[0mcol\u001b[0m\u001b[0;34m:\u001b[0m \u001b[0ms\u001b[0m \u001b[0;32mfor\u001b[0m \u001b[0mcol\u001b[0m\u001b[0;34m,\u001b[0m \u001b[0ms\u001b[0m \u001b[0;32min\u001b[0m \u001b[0mpool\u001b[0m\u001b[0;34m.\u001b[0m\u001b[0mmap\u001b[0m\u001b[0;34m(\u001b[0m\u001b[0mlocal_multiprocess_func\u001b[0m\u001b[0;34m,\u001b[0m \u001b[0mdf\u001b[0m\u001b[0;34m.\u001b[0m\u001b[0miteritems\u001b[0m\u001b[0;34m(\u001b[0m\u001b[0;34m)\u001b[0m\u001b[0;34m)\u001b[0m\u001b[0;34m}\u001b[0m\u001b[0;34m\u001b[0m\u001b[0;34m\u001b[0m\u001b[0m\n\u001b[0m\u001b[1;32m    352\u001b[0m     \u001b[0mpool\u001b[0m\u001b[0;34m.\u001b[0m\u001b[0mclose\u001b[0m\u001b[0;34m(\u001b[0m\u001b[0;34m)\u001b[0m\u001b[0;34m\u001b[0m\u001b[0;34m\u001b[0m\u001b[0m\n\u001b[1;32m    353\u001b[0m \u001b[0;34m\u001b[0m\u001b[0m\n",
      "\u001b[0;32m/usr/lib/python3.7/multiprocessing/pool.py\u001b[0m in \u001b[0;36mmap\u001b[0;34m(self, func, iterable, chunksize)\u001b[0m\n\u001b[1;32m    266\u001b[0m         \u001b[0;32min\u001b[0m \u001b[0ma\u001b[0m \u001b[0mlist\u001b[0m \u001b[0mthat\u001b[0m \u001b[0;32mis\u001b[0m \u001b[0mreturned\u001b[0m\u001b[0;34m.\u001b[0m\u001b[0;34m\u001b[0m\u001b[0;34m\u001b[0m\u001b[0m\n\u001b[1;32m    267\u001b[0m         '''\n\u001b[0;32m--> 268\u001b[0;31m         \u001b[0;32mreturn\u001b[0m \u001b[0mself\u001b[0m\u001b[0;34m.\u001b[0m\u001b[0m_map_async\u001b[0m\u001b[0;34m(\u001b[0m\u001b[0mfunc\u001b[0m\u001b[0;34m,\u001b[0m \u001b[0miterable\u001b[0m\u001b[0;34m,\u001b[0m \u001b[0mmapstar\u001b[0m\u001b[0;34m,\u001b[0m \u001b[0mchunksize\u001b[0m\u001b[0;34m)\u001b[0m\u001b[0;34m.\u001b[0m\u001b[0mget\u001b[0m\u001b[0;34m(\u001b[0m\u001b[0;34m)\u001b[0m\u001b[0;34m\u001b[0m\u001b[0;34m\u001b[0m\u001b[0m\n\u001b[0m\u001b[1;32m    269\u001b[0m \u001b[0;34m\u001b[0m\u001b[0m\n\u001b[1;32m    270\u001b[0m     \u001b[0;32mdef\u001b[0m \u001b[0mstarmap\u001b[0m\u001b[0;34m(\u001b[0m\u001b[0mself\u001b[0m\u001b[0;34m,\u001b[0m \u001b[0mfunc\u001b[0m\u001b[0;34m,\u001b[0m \u001b[0miterable\u001b[0m\u001b[0;34m,\u001b[0m \u001b[0mchunksize\u001b[0m\u001b[0;34m=\u001b[0m\u001b[0;32mNone\u001b[0m\u001b[0;34m)\u001b[0m\u001b[0;34m:\u001b[0m\u001b[0;34m\u001b[0m\u001b[0;34m\u001b[0m\u001b[0m\n",
      "\u001b[0;32m/usr/lib/python3.7/multiprocessing/pool.py\u001b[0m in \u001b[0;36mget\u001b[0;34m(self, timeout)\u001b[0m\n\u001b[1;32m    655\u001b[0m             \u001b[0;32mreturn\u001b[0m \u001b[0mself\u001b[0m\u001b[0;34m.\u001b[0m\u001b[0m_value\u001b[0m\u001b[0;34m\u001b[0m\u001b[0;34m\u001b[0m\u001b[0m\n\u001b[1;32m    656\u001b[0m         \u001b[0;32melse\u001b[0m\u001b[0;34m:\u001b[0m\u001b[0;34m\u001b[0m\u001b[0;34m\u001b[0m\u001b[0m\n\u001b[0;32m--> 657\u001b[0;31m             \u001b[0;32mraise\u001b[0m \u001b[0mself\u001b[0m\u001b[0;34m.\u001b[0m\u001b[0m_value\u001b[0m\u001b[0;34m\u001b[0m\u001b[0;34m\u001b[0m\u001b[0m\n\u001b[0m\u001b[1;32m    658\u001b[0m \u001b[0;34m\u001b[0m\u001b[0m\n\u001b[1;32m    659\u001b[0m     \u001b[0;32mdef\u001b[0m \u001b[0m_set\u001b[0m\u001b[0;34m(\u001b[0m\u001b[0mself\u001b[0m\u001b[0;34m,\u001b[0m \u001b[0mi\u001b[0m\u001b[0;34m,\u001b[0m \u001b[0mobj\u001b[0m\u001b[0;34m)\u001b[0m\u001b[0;34m:\u001b[0m\u001b[0;34m\u001b[0m\u001b[0;34m\u001b[0m\u001b[0m\n",
      "\u001b[0;31mTypeError\u001b[0m: _plot_histogram() got an unexpected keyword argument 'title'"
     ]
    }
   ],
   "source": [
    "profile = ProfileReport(df, title='Report - Pandas Profiling', html={'style':{'full_width':True}})\n",
    "profile"
   ]
  },
  {
   "cell_type": "code",
   "execution_count": 10,
   "metadata": {
    "colab": {
     "base_uri": "https://localhost:8080/"
    },
    "executionInfo": {
     "elapsed": 291,
     "status": "ok",
     "timestamp": 1622985734552,
     "user": {
      "displayName": "Felipe A. Gomes Ferreira",
      "photoUrl": "",
      "userId": "09095471911889500468"
     },
     "user_tz": 180
    },
    "id": "kDpX3q0SC_IF",
    "outputId": "824ffa5f-ee13-4048-9f02-65cb9a080edb"
   },
   "outputs": [
    {
     "name": "stderr",
     "output_type": "stream",
     "text": [
      "/usr/local/lib/python3.7/dist-packages/seaborn/_decorators.py:43: FutureWarning: Pass the following variable as a keyword arg: x. From version 0.12, the only valid positional argument will be `data`, and passing other arguments without an explicit keyword will result in an error or misinterpretation.\n",
      "  FutureWarning\n"
     ]
    }
   ],
   "source": [
    "plt.figure(figsize=(12,6))\n",
    "sns.countplot(df['BK'])\n",
    "plt.show()"
   ]
  },
  {
   "cell_type": "code",
   "execution_count": 11,
   "metadata": {
    "colab": {
     "base_uri": "https://localhost:8080/"
    },
    "executionInfo": {
     "elapsed": 17,
     "status": "ok",
     "timestamp": 1622985734990,
     "user": {
      "displayName": "Felipe A. Gomes Ferreira",
      "photoUrl": "",
      "userId": "09095471911889500468"
     },
     "user_tz": 180
    },
    "id": "tf5Qp0-bC_IG",
    "outputId": "37ed88a8-66b7-4f91-b4ec-6fc17bc62f5d"
   },
   "outputs": [
    {
     "data": {
      "text/plain": [
       "0    92314\n",
       "1      558\n",
       "Name: BK, dtype: int64"
      ]
     },
     "execution_count": 11,
     "metadata": {
      "tags": []
     },
     "output_type": "execute_result"
    }
   ],
   "source": [
    "df['BK'].value_counts()"
   ]
  },
  {
   "cell_type": "markdown",
   "metadata": {
    "id": "bSiOsv01C_IG"
   },
   "source": [
    "#### Remove duplicates"
   ]
  },
  {
   "cell_type": "code",
   "execution_count": 12,
   "metadata": {
    "colab": {
     "base_uri": "https://localhost:8080/"
    },
    "executionInfo": {
     "elapsed": 14,
     "status": "ok",
     "timestamp": 1622985734990,
     "user": {
      "displayName": "Felipe A. Gomes Ferreira",
      "photoUrl": "",
      "userId": "09095471911889500468"
     },
     "user_tz": 180
    },
    "id": "N5Qc4FgQC_IH",
    "outputId": "dbcd639a-94f7-4c36-fc84-ca1f33643ea6"
   },
   "outputs": [
    {
     "data": {
      "text/plain": [
       "(92872, 13)"
      ]
     },
     "execution_count": 12,
     "metadata": {
      "tags": []
     },
     "output_type": "execute_result"
    }
   ],
   "source": [
    "df.shape"
   ]
  },
  {
   "cell_type": "code",
   "execution_count": 13,
   "metadata": {
    "colab": {
     "base_uri": "https://localhost:8080/"
    },
    "executionInfo": {
     "elapsed": 10,
     "status": "ok",
     "timestamp": 1622985734990,
     "user": {
      "displayName": "Felipe A. Gomes Ferreira",
      "photoUrl": "",
      "userId": "09095471911889500468"
     },
     "user_tz": 180
    },
    "id": "ij_ao2QBC_II",
    "outputId": "432cdbd1-b30e-4848-8cf2-93212a068026"
   },
   "outputs": [
    {
     "data": {
      "text/plain": [
       "(92845, 13)"
      ]
     },
     "execution_count": 13,
     "metadata": {
      "tags": []
     },
     "output_type": "execute_result"
    }
   ],
   "source": [
    "df = df.drop_duplicates()\n",
    "df.shape"
   ]
  },
  {
   "cell_type": "code",
   "execution_count": 14,
   "metadata": {
    "colab": {
     "base_uri": "https://localhost:8080/"
    },
    "executionInfo": {
     "elapsed": 7,
     "status": "ok",
     "timestamp": 1622985734991,
     "user": {
      "displayName": "Felipe A. Gomes Ferreira",
      "photoUrl": "",
      "userId": "09095471911889500468"
     },
     "user_tz": 180
    },
    "id": "rVdZ-lWXFNyg",
    "outputId": "6c7e2976-4100-4234-ed95-c62ea98571eb"
   },
   "outputs": [
    {
     "data": {
      "text/plain": [
       "(81185, 13)"
      ]
     },
     "execution_count": 14,
     "metadata": {
      "tags": []
     },
     "output_type": "execute_result"
    }
   ],
   "source": [
    "df = df.dropna()\n",
    "df.shape"
   ]
  },
  {
   "cell_type": "code",
   "execution_count": 15,
   "metadata": {
    "colab": {
     "base_uri": "https://localhost:8080/",
     "height": 473
    },
    "executionInfo": {
     "elapsed": 309,
     "status": "ok",
     "timestamp": 1622985735295,
     "user": {
      "displayName": "Felipe A. Gomes Ferreira",
      "photoUrl": "",
      "userId": "09095471911889500468"
     },
     "user_tz": 180
    },
    "id": "jQjSEv_wC_IO",
    "outputId": "6a4d2c78-d9ba-472f-e8c3-1e1b75285add"
   },
   "outputs": [
    {
     "data": {
      "text/html": [
       "<div>\n",
       "<style scoped>\n",
       "    .dataframe tbody tr th:only-of-type {\n",
       "        vertical-align: middle;\n",
       "    }\n",
       "\n",
       "    .dataframe tbody tr th {\n",
       "        vertical-align: top;\n",
       "    }\n",
       "\n",
       "    .dataframe thead th {\n",
       "        text-align: right;\n",
       "    }\n",
       "</style>\n",
       "<table border=\"1\" class=\"dataframe\">\n",
       "  <thead>\n",
       "    <tr style=\"text-align: right;\">\n",
       "      <th></th>\n",
       "      <th>EPS</th>\n",
       "      <th>Liquidity</th>\n",
       "      <th>Profitability</th>\n",
       "      <th>Productivity</th>\n",
       "      <th>Leverage Ratio</th>\n",
       "      <th>Asset Turnover</th>\n",
       "      <th>Operational Margin</th>\n",
       "      <th>Return on Equity</th>\n",
       "      <th>Market Book Ratio</th>\n",
       "      <th>Assets Growth</th>\n",
       "      <th>Sales Growth</th>\n",
       "      <th>Employee Growth</th>\n",
       "      <th>BK</th>\n",
       "    </tr>\n",
       "  </thead>\n",
       "  <tbody>\n",
       "    <tr>\n",
       "      <th>1</th>\n",
       "      <td>False</td>\n",
       "      <td>False</td>\n",
       "      <td>False</td>\n",
       "      <td>False</td>\n",
       "      <td>False</td>\n",
       "      <td>False</td>\n",
       "      <td>False</td>\n",
       "      <td>False</td>\n",
       "      <td>False</td>\n",
       "      <td>False</td>\n",
       "      <td>False</td>\n",
       "      <td>False</td>\n",
       "      <td>False</td>\n",
       "    </tr>\n",
       "    <tr>\n",
       "      <th>2</th>\n",
       "      <td>False</td>\n",
       "      <td>False</td>\n",
       "      <td>False</td>\n",
       "      <td>False</td>\n",
       "      <td>False</td>\n",
       "      <td>False</td>\n",
       "      <td>False</td>\n",
       "      <td>False</td>\n",
       "      <td>False</td>\n",
       "      <td>False</td>\n",
       "      <td>False</td>\n",
       "      <td>False</td>\n",
       "      <td>False</td>\n",
       "    </tr>\n",
       "    <tr>\n",
       "      <th>3</th>\n",
       "      <td>False</td>\n",
       "      <td>False</td>\n",
       "      <td>False</td>\n",
       "      <td>False</td>\n",
       "      <td>False</td>\n",
       "      <td>False</td>\n",
       "      <td>False</td>\n",
       "      <td>False</td>\n",
       "      <td>False</td>\n",
       "      <td>False</td>\n",
       "      <td>False</td>\n",
       "      <td>False</td>\n",
       "      <td>False</td>\n",
       "    </tr>\n",
       "    <tr>\n",
       "      <th>4</th>\n",
       "      <td>False</td>\n",
       "      <td>False</td>\n",
       "      <td>False</td>\n",
       "      <td>False</td>\n",
       "      <td>False</td>\n",
       "      <td>False</td>\n",
       "      <td>False</td>\n",
       "      <td>False</td>\n",
       "      <td>False</td>\n",
       "      <td>False</td>\n",
       "      <td>False</td>\n",
       "      <td>False</td>\n",
       "      <td>False</td>\n",
       "    </tr>\n",
       "    <tr>\n",
       "      <th>5</th>\n",
       "      <td>False</td>\n",
       "      <td>False</td>\n",
       "      <td>False</td>\n",
       "      <td>False</td>\n",
       "      <td>False</td>\n",
       "      <td>False</td>\n",
       "      <td>False</td>\n",
       "      <td>False</td>\n",
       "      <td>False</td>\n",
       "      <td>False</td>\n",
       "      <td>False</td>\n",
       "      <td>False</td>\n",
       "      <td>False</td>\n",
       "    </tr>\n",
       "    <tr>\n",
       "      <th>...</th>\n",
       "      <td>...</td>\n",
       "      <td>...</td>\n",
       "      <td>...</td>\n",
       "      <td>...</td>\n",
       "      <td>...</td>\n",
       "      <td>...</td>\n",
       "      <td>...</td>\n",
       "      <td>...</td>\n",
       "      <td>...</td>\n",
       "      <td>...</td>\n",
       "      <td>...</td>\n",
       "      <td>...</td>\n",
       "      <td>...</td>\n",
       "    </tr>\n",
       "    <tr>\n",
       "      <th>92867</th>\n",
       "      <td>False</td>\n",
       "      <td>False</td>\n",
       "      <td>False</td>\n",
       "      <td>False</td>\n",
       "      <td>False</td>\n",
       "      <td>False</td>\n",
       "      <td>False</td>\n",
       "      <td>False</td>\n",
       "      <td>False</td>\n",
       "      <td>False</td>\n",
       "      <td>False</td>\n",
       "      <td>False</td>\n",
       "      <td>False</td>\n",
       "    </tr>\n",
       "    <tr>\n",
       "      <th>92868</th>\n",
       "      <td>False</td>\n",
       "      <td>False</td>\n",
       "      <td>False</td>\n",
       "      <td>False</td>\n",
       "      <td>False</td>\n",
       "      <td>False</td>\n",
       "      <td>False</td>\n",
       "      <td>False</td>\n",
       "      <td>False</td>\n",
       "      <td>False</td>\n",
       "      <td>False</td>\n",
       "      <td>False</td>\n",
       "      <td>False</td>\n",
       "    </tr>\n",
       "    <tr>\n",
       "      <th>92869</th>\n",
       "      <td>False</td>\n",
       "      <td>False</td>\n",
       "      <td>False</td>\n",
       "      <td>False</td>\n",
       "      <td>False</td>\n",
       "      <td>False</td>\n",
       "      <td>False</td>\n",
       "      <td>False</td>\n",
       "      <td>False</td>\n",
       "      <td>False</td>\n",
       "      <td>False</td>\n",
       "      <td>False</td>\n",
       "      <td>False</td>\n",
       "    </tr>\n",
       "    <tr>\n",
       "      <th>92870</th>\n",
       "      <td>False</td>\n",
       "      <td>False</td>\n",
       "      <td>False</td>\n",
       "      <td>False</td>\n",
       "      <td>False</td>\n",
       "      <td>False</td>\n",
       "      <td>False</td>\n",
       "      <td>False</td>\n",
       "      <td>False</td>\n",
       "      <td>False</td>\n",
       "      <td>False</td>\n",
       "      <td>False</td>\n",
       "      <td>False</td>\n",
       "    </tr>\n",
       "    <tr>\n",
       "      <th>92871</th>\n",
       "      <td>False</td>\n",
       "      <td>False</td>\n",
       "      <td>False</td>\n",
       "      <td>False</td>\n",
       "      <td>False</td>\n",
       "      <td>False</td>\n",
       "      <td>False</td>\n",
       "      <td>False</td>\n",
       "      <td>False</td>\n",
       "      <td>False</td>\n",
       "      <td>False</td>\n",
       "      <td>False</td>\n",
       "      <td>False</td>\n",
       "    </tr>\n",
       "  </tbody>\n",
       "</table>\n",
       "<p>81185 rows × 13 columns</p>\n",
       "</div>"
      ],
      "text/plain": [
       "         EPS  Liquidity  Profitability  ...  Sales Growth  Employee Growth     BK\n",
       "1      False      False          False  ...         False            False  False\n",
       "2      False      False          False  ...         False            False  False\n",
       "3      False      False          False  ...         False            False  False\n",
       "4      False      False          False  ...         False            False  False\n",
       "5      False      False          False  ...         False            False  False\n",
       "...      ...        ...            ...  ...           ...              ...    ...\n",
       "92867  False      False          False  ...         False            False  False\n",
       "92868  False      False          False  ...         False            False  False\n",
       "92869  False      False          False  ...         False            False  False\n",
       "92870  False      False          False  ...         False            False  False\n",
       "92871  False      False          False  ...         False            False  False\n",
       "\n",
       "[81185 rows x 13 columns]"
      ]
     },
     "execution_count": 15,
     "metadata": {
      "tags": []
     },
     "output_type": "execute_result"
    }
   ],
   "source": [
    "np.isnan(df)"
   ]
  },
  {
   "cell_type": "code",
   "execution_count": 16,
   "metadata": {
    "colab": {
     "base_uri": "https://localhost:8080/"
    },
    "executionInfo": {
     "elapsed": 7,
     "status": "ok",
     "timestamp": 1622985735296,
     "user": {
      "displayName": "Felipe A. Gomes Ferreira",
      "photoUrl": "",
      "userId": "09095471911889500468"
     },
     "user_tz": 180
    },
    "id": "lvV5CW6RC_IQ",
    "outputId": "6f6b4d4b-ae32-45c5-b24c-1c960baa8d6b"
   },
   "outputs": [
    {
     "data": {
      "text/plain": [
       "False    81185\n",
       "Name: Assets Growth, dtype: int64"
      ]
     },
     "execution_count": 16,
     "metadata": {
      "tags": []
     },
     "output_type": "execute_result"
    }
   ],
   "source": [
    "np.isnan(df['Assets Growth']).value_counts()"
   ]
  },
  {
   "cell_type": "markdown",
   "metadata": {
    "id": "EwM0_DKtC_IQ"
   },
   "source": [
    "#### Train_Test_Split"
   ]
  },
  {
   "cell_type": "code",
   "execution_count": 17,
   "metadata": {
    "executionInfo": {
     "elapsed": 5,
     "status": "ok",
     "timestamp": 1622985735296,
     "user": {
      "displayName": "Felipe A. Gomes Ferreira",
      "photoUrl": "",
      "userId": "09095471911889500468"
     },
     "user_tz": 180
    },
    "id": "2ICsjPwCC_IR"
   },
   "outputs": [],
   "source": [
    "X = df.drop('BK', axis=1) \n",
    "y = df['BK']"
   ]
  },
  {
   "cell_type": "code",
   "execution_count": 18,
   "metadata": {
    "executionInfo": {
     "elapsed": 6,
     "status": "ok",
     "timestamp": 1622985735297,
     "user": {
      "displayName": "Felipe A. Gomes Ferreira",
      "photoUrl": "",
      "userId": "09095471911889500468"
     },
     "user_tz": 180
    },
    "id": "gnZbmAKwC_IR"
   },
   "outputs": [],
   "source": [
    "from sklearn.model_selection import train_test_split\n",
    "# stratify will preserve the proportion of the target\n",
    "X_train, X_test, y_train, y_test = train_test_split(X, y, stratify=y,random_state=97, test_size = 0.20)"
   ]
  },
  {
   "cell_type": "code",
   "execution_count": 19,
   "metadata": {
    "colab": {
     "base_uri": "https://localhost:8080/"
    },
    "executionInfo": {
     "elapsed": 425,
     "status": "ok",
     "timestamp": 1622985735717,
     "user": {
      "displayName": "Felipe A. Gomes Ferreira",
      "photoUrl": "",
      "userId": "09095471911889500468"
     },
     "user_tz": 180
    },
    "id": "ztV3pFDBC_IS",
    "outputId": "8ce0bcb4-ef68-404e-f95d-f42e01bf5b3b"
   },
   "outputs": [
    {
     "name": "stderr",
     "output_type": "stream",
     "text": [
      "/usr/local/lib/python3.7/dist-packages/sklearn/externals/six.py:31: FutureWarning: The module is deprecated in version 0.21 and will be removed in version 0.23 since we've dropped support for Python 2.7. Please rely on the official version of six (https://pypi.org/project/six/).\n",
      "  \"(https://pypi.org/project/six/).\", FutureWarning)\n",
      "/usr/local/lib/python3.7/dist-packages/sklearn/utils/deprecation.py:144: FutureWarning: The sklearn.neighbors.base module is  deprecated in version 0.22 and will be removed in version 0.24. The corresponding classes / functions should instead be imported from sklearn.neighbors. Anything that cannot be imported from sklearn.neighbors is now part of the private API.\n",
      "  warnings.warn(message, FutureWarning)\n",
      "/usr/local/lib/python3.7/dist-packages/sklearn/utils/deprecation.py:87: FutureWarning: Function safe_indexing is deprecated; safe_indexing is deprecated in version 0.22 and will be removed in version 0.24.\n",
      "  warnings.warn(msg, category=FutureWarning)\n"
     ]
    }
   ],
   "source": [
    "from imblearn.over_sampling import SMOTE\n",
    "over = SMOTE(ratio = 0.5)\n",
    "X_train, y_train = over.fit_resample(X, y)"
   ]
  },
  {
   "cell_type": "code",
   "execution_count": 20,
   "metadata": {
    "colab": {
     "base_uri": "https://localhost:8080/"
    },
    "executionInfo": {
     "elapsed": 315,
     "status": "ok",
     "timestamp": 1622985736017,
     "user": {
      "displayName": "Felipe A. Gomes Ferreira",
      "photoUrl": "",
      "userId": "09095471911889500468"
     },
     "user_tz": 180
    },
    "id": "5chq-UbyG19M",
    "outputId": "63268b63-e93b-490e-a93b-e0ab72d666fb"
   },
   "outputs": [
    {
     "name": "stderr",
     "output_type": "stream",
     "text": [
      "/usr/local/lib/python3.7/dist-packages/seaborn/_decorators.py:43: FutureWarning: Pass the following variable as a keyword arg: x. From version 0.12, the only valid positional argument will be `data`, and passing other arguments without an explicit keyword will result in an error or misinterpretation.\n",
      "  FutureWarning\n"
     ]
    }
   ],
   "source": [
    "plt.figure(figsize=(8,6))\n",
    "sns.countplot(df['BK'])\n",
    "plt.show()"
   ]
  },
  {
   "cell_type": "code",
   "execution_count": 21,
   "metadata": {
    "executionInfo": {
     "elapsed": 12,
     "status": "ok",
     "timestamp": 1622985736018,
     "user": {
      "displayName": "Felipe A. Gomes Ferreira",
      "photoUrl": "",
      "userId": "09095471911889500468"
     },
     "user_tz": 180
    },
    "id": "ZHR-9_-AC_IU"
   },
   "outputs": [],
   "source": [
    "from sklearn.preprocessing import StandardScaler\n",
    "sc = StandardScaler()\n",
    "X_train_sc = sc.fit_transform(X_train)"
   ]
  },
  {
   "cell_type": "code",
   "execution_count": 22,
   "metadata": {
    "executionInfo": {
     "elapsed": 11,
     "status": "ok",
     "timestamp": 1622985736018,
     "user": {
      "displayName": "Felipe A. Gomes Ferreira",
      "photoUrl": "",
      "userId": "09095471911889500468"
     },
     "user_tz": 180
    },
    "id": "kIPckJdhC_IV"
   },
   "outputs": [],
   "source": [
    "from sklearn.ensemble import RandomForestClassifier\n",
    "from sklearn.ensemble import GradientBoostingClassifier\n",
    "from sklearn.svm import SVC\n",
    "from sklearn.naive_bayes import GaussianNB\n",
    "from sklearn.linear_model import LogisticRegression\n",
    "\n",
    "\n",
    "from sklearn.metrics import confusion_matrix\n",
    "from sklearn.metrics import accuracy_score\n",
    "from sklearn.metrics import classification_report\n",
    "from sklearn.metrics import f1_score\n",
    "from sklearn.metrics import roc_auc_score\n",
    "from sklearn.metrics import average_precision_score\n",
    "from sklearn.metrics import recall_score\n",
    "from sklearn import datasets, metrics, model_selection, svm\n"
   ]
  },
  {
   "cell_type": "markdown",
   "metadata": {
    "id": "tdGWE4XEC_IX"
   },
   "source": [
    "### 3. Running RFECV"
   ]
  },
  {
   "cell_type": "code",
   "execution_count": 23,
   "metadata": {
    "executionInfo": {
     "elapsed": 2,
     "status": "ok",
     "timestamp": 1622985736296,
     "user": {
      "displayName": "Felipe A. Gomes Ferreira",
      "photoUrl": "",
      "userId": "09095471911889500468"
     },
     "user_tz": 180
    },
    "id": "NSXTYW8cC_IX"
   },
   "outputs": [],
   "source": [
    "from sklearn.model_selection import StratifiedKFold\n",
    "from sklearn.feature_selection import RFECV"
   ]
  },
  {
   "cell_type": "code",
   "execution_count": 24,
   "metadata": {
    "colab": {
     "base_uri": "https://localhost:8080/"
    },
    "executionInfo": {
     "elapsed": 3096084,
     "status": "ok",
     "timestamp": 1622988832378,
     "user": {
      "displayName": "Felipe A. Gomes Ferreira",
      "photoUrl": "",
      "userId": "09095471911889500468"
     },
     "user_tz": 180
    },
    "id": "BS1BJiQOC_IX",
    "outputId": "a457b109-26dd-43cc-d17d-16b6786112f7"
   },
   "outputs": [
    {
     "data": {
      "text/plain": [
       "RFECV(cv=StratifiedKFold(n_splits=10, random_state=None, shuffle=False),\n",
       "      estimator=RandomForestClassifier(bootstrap=True, ccp_alpha=0.0,\n",
       "                                       class_weight=None, criterion='gini',\n",
       "                                       max_depth=None, max_features='auto',\n",
       "                                       max_leaf_nodes=None, max_samples=None,\n",
       "                                       min_impurity_decrease=0.0,\n",
       "                                       min_impurity_split=None,\n",
       "                                       min_samples_leaf=1, min_samples_split=2,\n",
       "                                       min_weight_fraction_leaf=0.0,\n",
       "                                       n_estimators=100, n_jobs=None,\n",
       "                                       oob_score=False, random_state=101,\n",
       "                                       verbose=0, warm_start=False),\n",
       "      min_features_to_select=1, n_jobs=None, scoring='f1', step=1, verbose=0)"
      ]
     },
     "execution_count": 24,
     "metadata": {
      "tags": []
     },
     "output_type": "execute_result"
    }
   ],
   "source": [
    "RFC = RandomForestClassifier(random_state=101)\n",
    "RFECV = RFECV(estimator=RFC, step=1, cv=StratifiedKFold(10), scoring='f1')\n",
    "RFECV.fit(X_train, y_train)"
   ]
  },
  {
   "cell_type": "code",
   "execution_count": 26,
   "metadata": {
    "colab": {
     "base_uri": "https://localhost:8080/"
    },
    "executionInfo": {
     "elapsed": 324,
     "status": "ok",
     "timestamp": 1622990844258,
     "user": {
      "displayName": "Felipe A. Gomes Ferreira",
      "photoUrl": "",
      "userId": "09095471911889500468"
     },
     "user_tz": 180
    },
    "id": "PSXNQEpSC_IY",
    "outputId": "433f15a6-a0be-4785-c19e-51d8fc7b1bbe"
   },
   "outputs": [
    {
     "name": "stdout",
     "output_type": "stream",
     "text": [
      "Optimal number of features: 12\n"
     ]
    }
   ],
   "source": [
    "print('Optimal number of features: {}'.format(RFECV.n_features_))"
   ]
  },
  {
   "cell_type": "code",
   "execution_count": 27,
   "metadata": {
    "colab": {
     "base_uri": "https://localhost:8080/"
    },
    "executionInfo": {
     "elapsed": 292,
     "status": "ok",
     "timestamp": 1622990853046,
     "user": {
      "displayName": "Felipe A. Gomes Ferreira",
      "photoUrl": "",
      "userId": "09095471911889500468"
     },
     "user_tz": 180
    },
    "id": "qIskdyakC_IY",
    "outputId": "e796f694-3bd2-478e-b600-baeb9638f9dc"
   },
   "outputs": [
    {
     "data": {
      "text/plain": [
       "array([0.92110944, 0.92232448, 0.93089911, 0.95791857, 0.96467001,\n",
       "       0.97063232, 0.97553358, 0.97842706, 0.98156854, 0.98349013,\n",
       "       0.98418853, 0.98475274])"
      ]
     },
     "execution_count": 27,
     "metadata": {
      "tags": []
     },
     "output_type": "execute_result"
    }
   ],
   "source": [
    "RFECV.grid_scores_"
   ]
  },
  {
   "cell_type": "markdown",
   "metadata": {
    "id": "N_iOv-0s2D86"
   },
   "source": [
    "**Plot the accuracy obtained with every number of features used:**"
   ]
  },
  {
   "cell_type": "code",
   "execution_count": 72,
   "metadata": {
    "colab": {
     "base_uri": "https://localhost:8080/",
     "height": 591
    },
    "executionInfo": {
     "elapsed": 463,
     "status": "ok",
     "timestamp": 1623009636391,
     "user": {
      "displayName": "Felipe A. Gomes Ferreira",
      "photoUrl": "",
      "userId": "09095471911889500468"
     },
     "user_tz": 180
    },
    "id": "FiiDZ9B0C_IZ",
    "outputId": "c8438070-1142-4e73-cd31-770929cfe05e"
   },
   "outputs": [
    {
     "data": {
      "image/png": "[encoded data removed]",
      "text/plain": [
       "<Figure size 1152x648 with 1 Axes>"
      ]
     },
     "metadata": {
      "needs_background": "light",
      "tags": []
     },
     "output_type": "display_data"
    }
   ],
   "source": [
    "import matplotlib.pyplot as plt\n",
    "%matplotlib inline\n",
    "\n",
    "\n",
    "P1 = plt.figure(figsize=(16, 9))\n",
    "plt.title('Recursive Feature Elimination with Cross-Validation', fontsize=18, fontweight='bold', pad=20)\n",
    "plt.xlabel('Number of features selected', fontsize=14, labelpad=20)\n",
    "plt.ylabel('% Correct Classification via f1-score', fontsize=14, labelpad=20)\n",
    "plt.plot(range(1, len(RFECV.grid_scores_) + 1), RFECV.grid_scores_, color='#303F9F', linewidth=3)\n",
    "\n",
    "plt.show()"
   ]
  },
  {
   "cell_type": "code",
   "execution_count": 73,
   "metadata": {
    "executionInfo": {
     "elapsed": 308,
     "status": "ok",
     "timestamp": 1623009640218,
     "user": {
      "displayName": "Felipe A. Gomes Ferreira",
      "photoUrl": "",
      "userId": "09095471911889500468"
     },
     "user_tz": 180
    },
    "id": "z1FsG3ce6SVH"
   },
   "outputs": [],
   "source": [
    "P1.savefig('Recursive Feature Elimination with Cross-Validation.pdf') "
   ]
  },
  {
   "cell_type": "code",
   "execution_count": 38,
   "metadata": {
    "colab": {
     "base_uri": "https://localhost:8080/"
    },
    "executionInfo": {
     "elapsed": 325,
     "status": "ok",
     "timestamp": 1623004699179,
     "user": {
      "displayName": "Felipe A. Gomes Ferreira",
      "photoUrl": "",
      "userId": "09095471911889500468"
     },
     "user_tz": 180
    },
    "id": "nQn79Qf670dP",
    "outputId": "8ba5efd1-3cca-4fdc-8cc8-d19f7a0e6174"
   },
   "outputs": [
    {
     "data": {
      "text/plain": [
       "(121068, 12)"
      ]
     },
     "execution_count": 38,
     "metadata": {
      "tags": []
     },
     "output_type": "execute_result"
    }
   ],
   "source": [
    "X_train.shape"
   ]
  },
  {
   "cell_type": "markdown",
   "metadata": {
    "id": "xBmG149j2zSn"
   },
   "source": [
    " Let's print out which features are considered to be least important and drop them with this snippet:"
   ]
  },
  {
   "cell_type": "code",
   "execution_count": 39,
   "metadata": {
    "colab": {
     "base_uri": "https://localhost:8080/"
    },
    "executionInfo": {
     "elapsed": 330,
     "status": "ok",
     "timestamp": 1623006748788,
     "user": {
      "displayName": "Felipe A. Gomes Ferreira",
      "photoUrl": "",
      "userId": "09095471911889500468"
     },
     "user_tz": 180
    },
    "id": "XdqJI4lBvTbQ",
    "outputId": "60c8d915-c026-41b7-abb1-577f9c10ca0c"
   },
   "outputs": [
    {
     "data": {
      "text/plain": [
       "numpy.ndarray"
      ]
     },
     "execution_count": 39,
     "metadata": {
      "tags": []
     },
     "output_type": "execute_result"
    }
   ],
   "source": [
    "type(X_train)"
   ]
  },
  {
   "cell_type": "markdown",
   "metadata": {
    "id": "-h2aUXUP4ROh"
   },
   "source": [
    "Let's bring back X_train into DataFrame form after it was transformed into numpy array by using StandardScaler."
   ]
  },
  {
   "cell_type": "code",
   "execution_count": 40,
   "metadata": {
    "colab": {
     "base_uri": "https://localhost:8080/",
     "height": 204
    },
    "executionInfo": {
     "elapsed": 6,
     "status": "ok",
     "timestamp": 1623006793099,
     "user": {
      "displayName": "Felipe A. Gomes Ferreira",
      "photoUrl": "",
      "userId": "09095471911889500468"
     },
     "user_tz": 180
    },
    "id": "--meHml6vTdZ",
    "outputId": "f28041a7-8133-4cff-e646-fa391ea6f4a6"
   },
   "outputs": [
    {
     "data": {
      "text/html": [
       "<div>\n",
       "<style scoped>\n",
       "    .dataframe tbody tr th:only-of-type {\n",
       "        vertical-align: middle;\n",
       "    }\n",
       "\n",
       "    .dataframe tbody tr th {\n",
       "        vertical-align: top;\n",
       "    }\n",
       "\n",
       "    .dataframe thead th {\n",
       "        text-align: right;\n",
       "    }\n",
       "</style>\n",
       "<table border=\"1\" class=\"dataframe\">\n",
       "  <thead>\n",
       "    <tr style=\"text-align: right;\">\n",
       "      <th></th>\n",
       "      <th>0</th>\n",
       "      <th>1</th>\n",
       "      <th>2</th>\n",
       "      <th>3</th>\n",
       "      <th>4</th>\n",
       "      <th>5</th>\n",
       "      <th>6</th>\n",
       "      <th>7</th>\n",
       "      <th>8</th>\n",
       "      <th>9</th>\n",
       "      <th>10</th>\n",
       "      <th>11</th>\n",
       "    </tr>\n",
       "  </thead>\n",
       "  <tbody>\n",
       "    <tr>\n",
       "      <th>0</th>\n",
       "      <td>1.41</td>\n",
       "      <td>0.36</td>\n",
       "      <td>0.19</td>\n",
       "      <td>0.12</td>\n",
       "      <td>1.31</td>\n",
       "      <td>1.59</td>\n",
       "      <td>0.07</td>\n",
       "      <td>0.13</td>\n",
       "      <td>2.41</td>\n",
       "      <td>0.126319</td>\n",
       "      <td>0.014278</td>\n",
       "      <td>0.040179</td>\n",
       "    </tr>\n",
       "    <tr>\n",
       "      <th>1</th>\n",
       "      <td>0.31</td>\n",
       "      <td>0.32</td>\n",
       "      <td>0.13</td>\n",
       "      <td>0.08</td>\n",
       "      <td>1.03</td>\n",
       "      <td>1.55</td>\n",
       "      <td>0.05</td>\n",
       "      <td>0.04</td>\n",
       "      <td>2.56</td>\n",
       "      <td>0.368077</td>\n",
       "      <td>0.327909</td>\n",
       "      <td>0.566524</td>\n",
       "    </tr>\n",
       "    <tr>\n",
       "      <th>2</th>\n",
       "      <td>0.71</td>\n",
       "      <td>0.28</td>\n",
       "      <td>0.14</td>\n",
       "      <td>0.08</td>\n",
       "      <td>0.80</td>\n",
       "      <td>1.39</td>\n",
       "      <td>0.06</td>\n",
       "      <td>0.05</td>\n",
       "      <td>5.28</td>\n",
       "      <td>-0.020809</td>\n",
       "      <td>-0.118904</td>\n",
       "      <td>-0.095890</td>\n",
       "    </tr>\n",
       "    <tr>\n",
       "      <th>3</th>\n",
       "      <td>0.75</td>\n",
       "      <td>0.41</td>\n",
       "      <td>0.13</td>\n",
       "      <td>0.08</td>\n",
       "      <td>0.20</td>\n",
       "      <td>1.30</td>\n",
       "      <td>0.06</td>\n",
       "      <td>0.04</td>\n",
       "      <td>8.68</td>\n",
       "      <td>0.233089</td>\n",
       "      <td>0.146807</td>\n",
       "      <td>0.053030</td>\n",
       "    </tr>\n",
       "    <tr>\n",
       "      <th>4</th>\n",
       "      <td>1.50</td>\n",
       "      <td>0.37</td>\n",
       "      <td>0.16</td>\n",
       "      <td>0.11</td>\n",
       "      <td>0.34</td>\n",
       "      <td>1.41</td>\n",
       "      <td>0.08</td>\n",
       "      <td>0.08</td>\n",
       "      <td>7.82</td>\n",
       "      <td>0.132458</td>\n",
       "      <td>0.231681</td>\n",
       "      <td>0.076978</td>\n",
       "    </tr>\n",
       "  </tbody>\n",
       "</table>\n",
       "</div>"
      ],
      "text/plain": [
       "     0     1     2     3     4   ...    7     8         9         10        11\n",
       "0  1.41  0.36  0.19  0.12  1.31  ...  0.13  2.41  0.126319  0.014278  0.040179\n",
       "1  0.31  0.32  0.13  0.08  1.03  ...  0.04  2.56  0.368077  0.327909  0.566524\n",
       "2  0.71  0.28  0.14  0.08  0.80  ...  0.05  5.28 -0.020809 -0.118904 -0.095890\n",
       "3  0.75  0.41  0.13  0.08  0.20  ...  0.04  8.68  0.233089  0.146807  0.053030\n",
       "4  1.50  0.37  0.16  0.11  0.34  ...  0.08  7.82  0.132458  0.231681  0.076978\n",
       "\n",
       "[5 rows x 12 columns]"
      ]
     },
     "execution_count": 40,
     "metadata": {
      "tags": []
     },
     "output_type": "execute_result"
    }
   ],
   "source": [
    "X_train_df = pd.DataFrame(X_train)\n",
    "X_train_df.head()"
   ]
  },
  {
   "cell_type": "code",
   "execution_count": 53,
   "metadata": {
    "colab": {
     "base_uri": "https://localhost:8080/"
    },
    "executionInfo": {
     "elapsed": 295,
     "status": "ok",
     "timestamp": 1623007803168,
     "user": {
      "displayName": "Felipe A. Gomes Ferreira",
      "photoUrl": "",
      "userId": "09095471911889500468"
     },
     "user_tz": 180
    },
    "id": "s1Y7SSUtzHcf",
    "outputId": "300550bc-a882-4a5b-92a6-79c08b0e3dd9"
   },
   "outputs": [
    {
     "data": {
      "text/plain": [
       "Index(['EPS', 'Liquidity', 'Profitability', 'Productivity', 'Leverage Ratio',\n",
       "       'Asset Turnover', 'Operational Margin', 'Return on Equity',\n",
       "       'Market Book Ratio', 'Assets Growth', 'Sales Growth',\n",
       "       'Employee Growth'],\n",
       "      dtype='object')"
      ]
     },
     "execution_count": 53,
     "metadata": {
      "tags": []
     },
     "output_type": "execute_result"
    }
   ],
   "source": [
    "df.columns[:12]"
   ]
  },
  {
   "cell_type": "code",
   "execution_count": null,
   "metadata": {
    "id": "4JbCXKW_vTna"
   },
   "outputs": [],
   "source": []
  },
  {
   "cell_type": "code",
   "execution_count": 74,
   "metadata": {
    "colab": {
     "base_uri": "https://localhost:8080/",
     "height": 881
    },
    "executionInfo": {
     "elapsed": 778,
     "status": "ok",
     "timestamp": 1623009710886,
     "user": {
      "displayName": "Felipe A. Gomes Ferreira",
      "photoUrl": "",
      "userId": "09095471911889500468"
     },
     "user_tz": 180
    },
    "id": "fDYVxPuH2tO9",
    "outputId": "8d121cb6-9824-42a9-e76e-6245d9ec66e8"
   },
   "outputs": [
    {
     "data": {
      "image/png": "[encoded data removed]",
      "text/plain": [
       "<Figure size 1152x1008 with 1 Axes>"
      ]
     },
     "metadata": {
      "needs_background": "light",
      "tags": []
     },
     "output_type": "display_data"
    }
   ],
   "source": [
    "# Let's measure the importances of the features\n",
    "dset = pd.DataFrame()\n",
    "dset['attr'] = X_train_df.columns\n",
    "dset['importance'] = RFECV.estimator_.feature_importances_\n",
    "\n",
    "dset = dset.sort_values(by='importance', ascending=False)\n",
    "\n",
    "\n",
    "P2 = plt.figure(figsize=(16, 14))\n",
    "plt.barh(y=dset['attr'], width=dset['importance'], color='#1976D2')\n",
    "plt.title('RFECV - Feature Importances', fontsize=20, fontweight='bold', pad=20)\n",
    "plt.xlabel('Importance', fontsize=14, labelpad=20)\n",
    "plt.show()"
   ]
  },
  {
   "cell_type": "code",
   "execution_count": 75,
   "metadata": {
    "executionInfo": {
     "elapsed": 294,
     "status": "ok",
     "timestamp": 1623009715751,
     "user": {
      "displayName": "Felipe A. Gomes Ferreira",
      "photoUrl": "",
      "userId": "09095471911889500468"
     },
     "user_tz": 180
    },
    "id": "tWcr9v5F6gwK"
   },
   "outputs": [],
   "source": [
    "P2.savefig('Feature Importances.pdf') "
   ]
  },
  {
   "cell_type": "markdown",
   "metadata": {
    "id": "-aL3cT2d1smP"
   },
   "source": [
    "**# Let's measure the importances of the features**"
   ]
  },
  {
   "cell_type": "code",
   "execution_count": 61,
   "metadata": {
    "colab": {
     "base_uri": "https://localhost:8080/",
     "height": 204
    },
    "executionInfo": {
     "elapsed": 308,
     "status": "ok",
     "timestamp": 1623008418934,
     "user": {
      "displayName": "Felipe A. Gomes Ferreira",
      "photoUrl": "",
      "userId": "09095471911889500468"
     },
     "user_tz": 180
    },
    "id": "ImAbO3he1Se_",
    "outputId": "135098ea-5f5a-4d20-893b-01274c257e04"
   },
   "outputs": [
    {
     "data": {
      "text/html": [
       "<div>\n",
       "<style scoped>\n",
       "    .dataframe tbody tr th:only-of-type {\n",
       "        vertical-align: middle;\n",
       "    }\n",
       "\n",
       "    .dataframe tbody tr th {\n",
       "        vertical-align: top;\n",
       "    }\n",
       "\n",
       "    .dataframe thead th {\n",
       "        text-align: right;\n",
       "    }\n",
       "</style>\n",
       "<table border=\"1\" class=\"dataframe\">\n",
       "  <thead>\n",
       "    <tr style=\"text-align: right;\">\n",
       "      <th></th>\n",
       "      <th>Feature</th>\n",
       "      <th>Importance</th>\n",
       "    </tr>\n",
       "  </thead>\n",
       "  <tbody>\n",
       "    <tr>\n",
       "      <th>7</th>\n",
       "      <td>7</td>\n",
       "      <td>0.192335</td>\n",
       "    </tr>\n",
       "    <tr>\n",
       "      <th>0</th>\n",
       "      <td>0</td>\n",
       "      <td>0.116437</td>\n",
       "    </tr>\n",
       "    <tr>\n",
       "      <th>8</th>\n",
       "      <td>8</td>\n",
       "      <td>0.107367</td>\n",
       "    </tr>\n",
       "    <tr>\n",
       "      <th>6</th>\n",
       "      <td>6</td>\n",
       "      <td>0.107188</td>\n",
       "    </tr>\n",
       "    <tr>\n",
       "      <th>1</th>\n",
       "      <td>1</td>\n",
       "      <td>0.083351</td>\n",
       "    </tr>\n",
       "  </tbody>\n",
       "</table>\n",
       "</div>"
      ],
      "text/plain": [
       "   Feature  Importance\n",
       "7        7    0.192335\n",
       "0        0    0.116437\n",
       "8        8    0.107367\n",
       "6        6    0.107188\n",
       "1        1    0.083351"
      ]
     },
     "execution_count": 61,
     "metadata": {
      "tags": []
     },
     "output_type": "execute_result"
    }
   ],
   "source": [
    "feature_names = X_train_df.columns\n",
    "\n",
    "imp = pd.DataFrame({'Feature': feature_names, 'Importance': RFECV.estimator_.feature_importances_})\n",
    "imp = imp.sort_values('Importance', ascending=False)\n",
    "imp.head()"
   ]
  },
  {
   "cell_type": "code",
   "execution_count": 70,
   "metadata": {
    "colab": {
     "base_uri": "https://localhost:8080/",
     "height": 1000
    },
    "executionInfo": {
     "elapsed": 877,
     "status": "ok",
     "timestamp": 1623009411812,
     "user": {
      "displayName": "Felipe A. Gomes Ferreira",
      "photoUrl": "",
      "userId": "09095471911889500468"
     },
     "user_tz": 180
    },
    "id": "obUTbyjh2tRJ",
    "outputId": "231d2095-4e46-4de0-d3da-640586b35ced"
   },
   "outputs": [
    {
     "data": {
      "image/png": "[encoded data removed]",
      "text/plain": [
       "<Figure size 1584x1728 with 1 Axes>"
      ]
     },
     "metadata": {
      "needs_background": "light",
      "tags": []
     },
     "output_type": "display_data"
    }
   ],
   "source": [
    "import matplotlib.pyplot as plt\n",
    "%matplotlib inline\n",
    "import seaborn as sns\n",
    "\n",
    "plt.figure(figsize=(22, 24))\n",
    "sns_plot = sns.barplot(y=dset['importance'], x=dset['attr'], data=imp)"
   ]
  },
  {
   "cell_type": "code",
   "execution_count": 76,
   "metadata": {
    "executionInfo": {
     "elapsed": 299,
     "status": "ok",
     "timestamp": 1623009871070,
     "user": {
      "displayName": "Felipe A. Gomes Ferreira",
      "photoUrl": "",
      "userId": "09095471911889500468"
     },
     "user_tz": 180
    },
    "id": "P7-q0xlG2tTU"
   },
   "outputs": [],
   "source": [
    "fig2 = sns_plot.get_figure()\n",
    "fig2.savefig('Colored Feature Importances.pdf', dpi=300)"
   ]
  },
  {
   "cell_type": "code",
   "execution_count": 62,
   "metadata": {
    "executionInfo": {
     "elapsed": 9,
     "status": "ok",
     "timestamp": 1623008419852,
     "user": {
      "displayName": "Felipe A. Gomes Ferreira",
      "photoUrl": "",
      "userId": "09095471911889500468"
     },
     "user_tz": 180
    },
    "id": "VrBqKlc_2tW0"
   },
   "outputs": [],
   "source": []
  }
 ],
 "metadata": {
  "colab": {
   "collapsed_sections": [],
   "name": "AI in Finance_Assignment 2.ipynb",
   "provenance": [],
   "toc_visible": true
  },
  "kernelspec": {
   "display_name": "Python 3",
   "language": "python",
   "name": "python3"
  },
  "language_info": {
   "codemirror_mode": {
    "name": "ipython",
    "version": 3
   },
   "file_extension": ".py",
   "mimetype": "text/x-python",
   "name": "python",
   "nbconvert_exporter": "python",
   "pygments_lexer": "ipython3",
   "version": "3.8.3"
  }
 },
 "nbformat": 4,
 "nbformat_minor": 1
}
