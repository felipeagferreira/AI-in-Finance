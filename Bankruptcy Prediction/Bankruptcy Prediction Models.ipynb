{
 "cells": [
  {
   "cell_type": "code",
   "execution_count": null,
   "metadata": {
    "id": "7uzXauebpHBD"
   },
   "outputs": [],
   "source": [
    "import numpy as np\n",
    "import pandas as pd\n",
    "import matplotlib\n",
    "import matplotlib.pyplot as plt\n",
    "\n",
    "import sklearn\n",
    "import seaborn as sns\n",
    "from sklearn.model_selection import train_test_split\n",
    "from sklearn.preprocessing import StandardScaler\n",
    "from sklearn.decomposition import PCA\n",
    "from sklearn.ensemble import RandomForestClassifier\n",
    "from sklearn.ensemble import GradientBoostingClassifier\n",
    "from sklearn.svm import SVC\n",
    "from sklearn.naive_bayes import GaussianNB\n",
    "from sklearn.linear_model import LogisticRegression\n",
    "from xgboost import XGBClassifier\n",
    "\n",
    "\n",
    "\n",
    "from sklearn.metrics import confusion_matrix\n",
    "from sklearn.metrics import accuracy_score\n",
    "from sklearn.metrics import classification_report\n",
    "from sklearn.metrics import f1_score\n",
    "from sklearn.metrics import roc_auc_score\n",
    "from sklearn.metrics import average_precision_score\n",
    "from sklearn.metrics import recall_score\n",
    "from sklearn import datasets, metrics, model_selection, svm\n",
    "\n",
    "\n",
    "\n",
    "from sklearn.model_selection import GridSearchCV\n",
    "from sklearn.model_selection import RandomizedSearchCV\n",
    "from sklearn.model_selection import RepeatedKFold\n",
    "\n",
    "import warnings\n",
    "warnings.filterwarnings(\"ignore\")\n",
    "\n",
    "from sqlalchemy import Table, Column, Float, Integer, BigInteger\n",
    "import missingno as msno\n",
    "\n",
    "from sklearn.feature_selection import SelectFromModel"
   ]
  },
  {
   "cell_type": "code",
   "execution_count": null,
   "metadata": {
    "id": "xR4iqeNspTRr"
   },
   "outputs": [],
   "source": [
    "from pandas import read_csv\n",
    "\n",
    "df = read_csv(\"Bankruptcy_data_Final.csv\")"
   ]
  },
  {
   "cell_type": "code",
   "execution_count": null,
   "metadata": {
    "colab": {
     "base_uri": "https://localhost:8080/"
    },
    "id": "AFdEBFoe6SYm",
    "outputId": "0706e958-baac-4048-d782-f1b2672d162a"
   },
   "outputs": [
    {
     "data": {
      "text/plain": [
       "(92872, 13)"
      ]
     },
     "execution_count": 3,
     "metadata": {
      "tags": []
     },
     "output_type": "execute_result"
    }
   ],
   "source": [
    "df.shape"
   ]
  },
  {
   "cell_type": "code",
   "execution_count": null,
   "metadata": {
    "id": "MFonLXjIn9Yh"
   },
   "outputs": [],
   "source": [
    "df = df.drop_duplicates()"
   ]
  },
  {
   "cell_type": "code",
   "execution_count": null,
   "metadata": {
    "colab": {
     "base_uri": "https://localhost:8080/"
    },
    "id": "qhr4thHwoCWb",
    "outputId": "f88c24ac-d49e-4324-8b99-390775f9a1bf"
   },
   "outputs": [
    {
     "data": {
      "text/plain": [
       "(92837, 13)"
      ]
     },
     "execution_count": 7,
     "metadata": {
      "tags": []
     },
     "output_type": "execute_result"
    }
   ],
   "source": [
    "df.shape"
   ]
  },
  {
   "cell_type": "code",
   "execution_count": null,
   "metadata": {
    "id": "qchiVQ1YoHju"
   },
   "outputs": [],
   "source": [
    "df = df.dropna()"
   ]
  },
  {
   "cell_type": "code",
   "execution_count": null,
   "metadata": {
    "colab": {
     "base_uri": "https://localhost:8080/"
    },
    "id": "L9K7-mWyoMJo",
    "outputId": "6c0b05a3-4896-4366-c9ae-97a039073700"
   },
   "outputs": [
    {
     "data": {
      "text/plain": [
       "(81177, 13)"
      ]
     },
     "execution_count": 10,
     "metadata": {
      "tags": []
     },
     "output_type": "execute_result"
    }
   ],
   "source": [
    "df.shape"
   ]
  },
  {
   "cell_type": "code",
   "execution_count": null,
   "metadata": {
    "colab": {
     "base_uri": "https://localhost:8080/"
    },
    "id": "eDUUTxW8qmB9",
    "outputId": "1995d9b0-f9fe-4338-90a6-d098ceab32d5"
   },
   "outputs": [
    {
     "name": "stdout",
     "output_type": "stream",
     "text": [
      "<class 'pandas.core.frame.DataFrame'>\n",
      "Int64Index: 81177 entries, 1 to 92871\n",
      "Data columns (total 13 columns):\n",
      " #   Column              Non-Null Count  Dtype  \n",
      "---  ------              --------------  -----  \n",
      " 0   EPS                 81177 non-null  float64\n",
      " 1   Liquidity           81177 non-null  float64\n",
      " 2   Profitability       81177 non-null  float64\n",
      " 3   Productivity        81177 non-null  float64\n",
      " 4   Leverage Ratio      81177 non-null  float64\n",
      " 5   Asset Turnover      81177 non-null  float64\n",
      " 6   Operational Margin  81177 non-null  float64\n",
      " 7   Return on Equity    81177 non-null  float64\n",
      " 8   Market Book Ratio   81177 non-null  float64\n",
      " 9   Assets Growth       81177 non-null  float64\n",
      " 10  Sales Growth        81177 non-null  float64\n",
      " 11  Employee Growth     81177 non-null  float64\n",
      " 12  BK                  81177 non-null  int64  \n",
      "dtypes: float64(12), int64(1)\n",
      "memory usage: 8.7 MB\n"
     ]
    }
   ],
   "source": [
    "df.info()"
   ]
  },
  {
   "cell_type": "code",
   "execution_count": null,
   "metadata": {
    "colab": {
     "base_uri": "https://localhost:8080/",
     "height": 215
    },
    "id": "P6inRmpip32v",
    "outputId": "fee2bbf1-67c8-4090-f18d-07015be283f4"
   },
   "outputs": [
    {
     "data": {
      "text/html": [
       "<div>\n",
       "<style scoped>\n",
       "    .dataframe tbody tr th:only-of-type {\n",
       "        vertical-align: middle;\n",
       "    }\n",
       "\n",
       "    .dataframe tbody tr th {\n",
       "        vertical-align: top;\n",
       "    }\n",
       "\n",
       "    .dataframe thead th {\n",
       "        text-align: right;\n",
       "    }\n",
       "</style>\n",
       "<table border=\"1\" class=\"dataframe\">\n",
       "  <thead>\n",
       "    <tr style=\"text-align: right;\">\n",
       "      <th></th>\n",
       "      <th>EPS</th>\n",
       "      <th>Liquidity</th>\n",
       "      <th>Profitability</th>\n",
       "      <th>Productivity</th>\n",
       "      <th>Leverage Ratio</th>\n",
       "      <th>Asset Turnover</th>\n",
       "      <th>Operational Margin</th>\n",
       "      <th>Return on Equity</th>\n",
       "      <th>Market Book Ratio</th>\n",
       "      <th>Assets Growth</th>\n",
       "      <th>Sales Growth</th>\n",
       "      <th>Employee Growth</th>\n",
       "      <th>BK</th>\n",
       "    </tr>\n",
       "  </thead>\n",
       "  <tbody>\n",
       "    <tr>\n",
       "      <th>1</th>\n",
       "      <td>1.41</td>\n",
       "      <td>0.36</td>\n",
       "      <td>0.19</td>\n",
       "      <td>0.12</td>\n",
       "      <td>1.31</td>\n",
       "      <td>1.59</td>\n",
       "      <td>0.07</td>\n",
       "      <td>0.13</td>\n",
       "      <td>2.41</td>\n",
       "      <td>0.126</td>\n",
       "      <td>0.014</td>\n",
       "      <td>0.040</td>\n",
       "      <td>0</td>\n",
       "    </tr>\n",
       "    <tr>\n",
       "      <th>2</th>\n",
       "      <td>0.31</td>\n",
       "      <td>0.32</td>\n",
       "      <td>0.13</td>\n",
       "      <td>0.08</td>\n",
       "      <td>1.03</td>\n",
       "      <td>1.55</td>\n",
       "      <td>0.05</td>\n",
       "      <td>0.04</td>\n",
       "      <td>2.56</td>\n",
       "      <td>0.368</td>\n",
       "      <td>0.328</td>\n",
       "      <td>0.567</td>\n",
       "      <td>0</td>\n",
       "    </tr>\n",
       "    <tr>\n",
       "      <th>3</th>\n",
       "      <td>0.71</td>\n",
       "      <td>0.28</td>\n",
       "      <td>0.14</td>\n",
       "      <td>0.08</td>\n",
       "      <td>0.80</td>\n",
       "      <td>1.39</td>\n",
       "      <td>0.06</td>\n",
       "      <td>0.05</td>\n",
       "      <td>5.28</td>\n",
       "      <td>-0.021</td>\n",
       "      <td>-0.119</td>\n",
       "      <td>-0.096</td>\n",
       "      <td>0</td>\n",
       "    </tr>\n",
       "    <tr>\n",
       "      <th>4</th>\n",
       "      <td>0.75</td>\n",
       "      <td>0.41</td>\n",
       "      <td>0.13</td>\n",
       "      <td>0.08</td>\n",
       "      <td>0.20</td>\n",
       "      <td>1.30</td>\n",
       "      <td>0.06</td>\n",
       "      <td>0.04</td>\n",
       "      <td>8.68</td>\n",
       "      <td>0.233</td>\n",
       "      <td>0.147</td>\n",
       "      <td>0.053</td>\n",
       "      <td>0</td>\n",
       "    </tr>\n",
       "    <tr>\n",
       "      <th>5</th>\n",
       "      <td>1.50</td>\n",
       "      <td>0.37</td>\n",
       "      <td>0.16</td>\n",
       "      <td>0.11</td>\n",
       "      <td>0.34</td>\n",
       "      <td>1.41</td>\n",
       "      <td>0.08</td>\n",
       "      <td>0.08</td>\n",
       "      <td>7.82</td>\n",
       "      <td>0.132</td>\n",
       "      <td>0.232</td>\n",
       "      <td>0.077</td>\n",
       "      <td>0</td>\n",
       "    </tr>\n",
       "  </tbody>\n",
       "</table>\n",
       "</div>"
      ],
      "text/plain": [
       "    EPS  Liquidity  Profitability  ...  Sales Growth  Employee Growth  BK\n",
       "1  1.41       0.36           0.19  ...         0.014            0.040   0\n",
       "2  0.31       0.32           0.13  ...         0.328            0.567   0\n",
       "3  0.71       0.28           0.14  ...        -0.119           -0.096   0\n",
       "4  0.75       0.41           0.13  ...         0.147            0.053   0\n",
       "5  1.50       0.37           0.16  ...         0.232            0.077   0\n",
       "\n",
       "[5 rows x 13 columns]"
      ]
     },
     "execution_count": 13,
     "metadata": {
      "tags": []
     },
     "output_type": "execute_result"
    }
   ],
   "source": [
    "df.head()"
   ]
  },
  {
   "cell_type": "code",
   "execution_count": null,
   "metadata": {
    "colab": {
     "base_uri": "https://localhost:8080/",
     "height": 438
    },
    "id": "ahheIVLxrU0W",
    "outputId": "9fa23606-8e64-4f9b-d8f7-99448f6a3682"
   },
   "outputs": [
    {
     "data": {
      "text/html": [
       "<div>\n",
       "<style scoped>\n",
       "    .dataframe tbody tr th:only-of-type {\n",
       "        vertical-align: middle;\n",
       "    }\n",
       "\n",
       "    .dataframe tbody tr th {\n",
       "        vertical-align: top;\n",
       "    }\n",
       "\n",
       "    .dataframe thead th {\n",
       "        text-align: right;\n",
       "    }\n",
       "</style>\n",
       "<table border=\"1\" class=\"dataframe\">\n",
       "  <thead>\n",
       "    <tr style=\"text-align: right;\">\n",
       "      <th></th>\n",
       "      <th>count</th>\n",
       "      <th>mean</th>\n",
       "      <th>std</th>\n",
       "      <th>min</th>\n",
       "      <th>25%</th>\n",
       "      <th>50%</th>\n",
       "      <th>75%</th>\n",
       "      <th>max</th>\n",
       "    </tr>\n",
       "  </thead>\n",
       "  <tbody>\n",
       "    <tr>\n",
       "      <th>EPS</th>\n",
       "      <td>81177.0</td>\n",
       "      <td>-16.062561</td>\n",
       "      <td>2343.640196</td>\n",
       "      <td>-384000.000</td>\n",
       "      <td>-0.120</td>\n",
       "      <td>0.480</td>\n",
       "      <td>1.670</td>\n",
       "      <td>55339.00</td>\n",
       "    </tr>\n",
       "    <tr>\n",
       "      <th>Liquidity</th>\n",
       "      <td>81177.0</td>\n",
       "      <td>-1.007026</td>\n",
       "      <td>98.566561</td>\n",
       "      <td>-25968.520</td>\n",
       "      <td>0.030</td>\n",
       "      <td>0.190</td>\n",
       "      <td>0.390</td>\n",
       "      <td>1.00</td>\n",
       "    </tr>\n",
       "    <tr>\n",
       "      <th>Profitability</th>\n",
       "      <td>81177.0</td>\n",
       "      <td>-9.256572</td>\n",
       "      <td>269.838204</td>\n",
       "      <td>-26097.600</td>\n",
       "      <td>-0.390</td>\n",
       "      <td>0.110</td>\n",
       "      <td>0.340</td>\n",
       "      <td>140.58</td>\n",
       "    </tr>\n",
       "    <tr>\n",
       "      <th>Productivity</th>\n",
       "      <td>81177.0</td>\n",
       "      <td>-0.266984</td>\n",
       "      <td>6.994533</td>\n",
       "      <td>-1241.000</td>\n",
       "      <td>-0.020</td>\n",
       "      <td>0.060</td>\n",
       "      <td>0.120</td>\n",
       "      <td>35.92</td>\n",
       "    </tr>\n",
       "    <tr>\n",
       "      <th>Leverage Ratio</th>\n",
       "      <td>81177.0</td>\n",
       "      <td>1.505548</td>\n",
       "      <td>270.595276</td>\n",
       "      <td>-7811.000</td>\n",
       "      <td>0.010</td>\n",
       "      <td>0.330</td>\n",
       "      <td>0.860</td>\n",
       "      <td>75970.38</td>\n",
       "    </tr>\n",
       "    <tr>\n",
       "      <th>Asset Turnover</th>\n",
       "      <td>81177.0</td>\n",
       "      <td>1.124817</td>\n",
       "      <td>2.216899</td>\n",
       "      <td>-31.590</td>\n",
       "      <td>0.470</td>\n",
       "      <td>0.890</td>\n",
       "      <td>1.430</td>\n",
       "      <td>276.38</td>\n",
       "    </tr>\n",
       "    <tr>\n",
       "      <th>Operational Margin</th>\n",
       "      <td>81177.0</td>\n",
       "      <td>-7.543540</td>\n",
       "      <td>215.155854</td>\n",
       "      <td>-30175.700</td>\n",
       "      <td>-0.020</td>\n",
       "      <td>0.060</td>\n",
       "      <td>0.140</td>\n",
       "      <td>394.47</td>\n",
       "    </tr>\n",
       "    <tr>\n",
       "      <th>Return on Equity</th>\n",
       "      <td>81177.0</td>\n",
       "      <td>-2.709686</td>\n",
       "      <td>348.427121</td>\n",
       "      <td>-88875.140</td>\n",
       "      <td>-0.060</td>\n",
       "      <td>0.040</td>\n",
       "      <td>0.070</td>\n",
       "      <td>11228.85</td>\n",
       "    </tr>\n",
       "    <tr>\n",
       "      <th>Market Book Ratio</th>\n",
       "      <td>81177.0</td>\n",
       "      <td>422.500536</td>\n",
       "      <td>14390.411760</td>\n",
       "      <td>-2306965.030</td>\n",
       "      <td>12.460</td>\n",
       "      <td>60.730</td>\n",
       "      <td>249.490</td>\n",
       "      <td>1020718.45</td>\n",
       "    </tr>\n",
       "    <tr>\n",
       "      <th>Assets Growth</th>\n",
       "      <td>81177.0</td>\n",
       "      <td>0.967674</td>\n",
       "      <td>63.950542</td>\n",
       "      <td>-1.000</td>\n",
       "      <td>-0.045</td>\n",
       "      <td>0.055</td>\n",
       "      <td>0.189</td>\n",
       "      <td>14231.00</td>\n",
       "    </tr>\n",
       "    <tr>\n",
       "      <th>Sales Growth</th>\n",
       "      <td>81177.0</td>\n",
       "      <td>2.007363</td>\n",
       "      <td>183.002085</td>\n",
       "      <td>-27.431</td>\n",
       "      <td>-0.036</td>\n",
       "      <td>0.071</td>\n",
       "      <td>0.218</td>\n",
       "      <td>39850.00</td>\n",
       "    </tr>\n",
       "    <tr>\n",
       "      <th>Employee Growth</th>\n",
       "      <td>81177.0</td>\n",
       "      <td>0.346570</td>\n",
       "      <td>14.424839</td>\n",
       "      <td>-1.000</td>\n",
       "      <td>-0.047</td>\n",
       "      <td>0.021</td>\n",
       "      <td>0.132</td>\n",
       "      <td>2699.00</td>\n",
       "    </tr>\n",
       "    <tr>\n",
       "      <th>BK</th>\n",
       "      <td>81177.0</td>\n",
       "      <td>0.005827</td>\n",
       "      <td>0.076111</td>\n",
       "      <td>0.000</td>\n",
       "      <td>0.000</td>\n",
       "      <td>0.000</td>\n",
       "      <td>0.000</td>\n",
       "      <td>1.00</td>\n",
       "    </tr>\n",
       "  </tbody>\n",
       "</table>\n",
       "</div>"
      ],
      "text/plain": [
       "                      count        mean  ...      75%         max\n",
       "EPS                 81177.0  -16.062561  ...    1.670    55339.00\n",
       "Liquidity           81177.0   -1.007026  ...    0.390        1.00\n",
       "Profitability       81177.0   -9.256572  ...    0.340      140.58\n",
       "Productivity        81177.0   -0.266984  ...    0.120       35.92\n",
       "Leverage Ratio      81177.0    1.505548  ...    0.860    75970.38\n",
       "Asset Turnover      81177.0    1.124817  ...    1.430      276.38\n",
       "Operational Margin  81177.0   -7.543540  ...    0.140      394.47\n",
       "Return on Equity    81177.0   -2.709686  ...    0.070    11228.85\n",
       "Market Book Ratio   81177.0  422.500536  ...  249.490  1020718.45\n",
       "Assets Growth       81177.0    0.967674  ...    0.189    14231.00\n",
       "Sales Growth        81177.0    2.007363  ...    0.218    39850.00\n",
       "Employee Growth     81177.0    0.346570  ...    0.132     2699.00\n",
       "BK                  81177.0    0.005827  ...    0.000        1.00\n",
       "\n",
       "[13 rows x 8 columns]"
      ]
     },
     "execution_count": 14,
     "metadata": {
      "tags": []
     },
     "output_type": "execute_result"
    }
   ],
   "source": [
    "df.describe().T"
   ]
  },
  {
   "cell_type": "code",
   "execution_count": null,
   "metadata": {
    "colab": {
     "base_uri": "https://localhost:8080/",
     "height": 388
    },
    "id": "PB-AdK0q6eIR",
    "outputId": "bfd543ff-c345-4d66-9e84-0ba000f7c9d3"
   },
   "outputs": [
    {
     "data": {
      "image/png": "[encoded data removed]",
      "text/plain": [
       "<Figure size 864x432 with 1 Axes>"
      ]
     },
     "metadata": {
      "needs_background": "light",
      "tags": []
     },
     "output_type": "display_data"
    }
   ],
   "source": [
    "plt.figure(figsize=(12,6))\n",
    "sns.countplot(df['BK'])\n",
    "plt.show()"
   ]
  },
  {
   "cell_type": "code",
   "execution_count": null,
   "metadata": {
    "colab": {
     "base_uri": "https://localhost:8080/",
     "height": 576
    },
    "id": "QIbVrYS8-NlS",
    "outputId": "2a440c7f-157f-4512-ddf1-7fbd671e2eb8"
   },
   "outputs": [
    {
     "data": {
      "text/html": [
       "<div>\n",
       "<style scoped>\n",
       "    .dataframe tbody tr th:only-of-type {\n",
       "        vertical-align: middle;\n",
       "    }\n",
       "\n",
       "    .dataframe tbody tr th {\n",
       "        vertical-align: top;\n",
       "    }\n",
       "\n",
       "    .dataframe thead th {\n",
       "        text-align: right;\n",
       "    }\n",
       "</style>\n",
       "<table border=\"1\" class=\"dataframe\">\n",
       "  <thead>\n",
       "    <tr style=\"text-align: right;\">\n",
       "      <th></th>\n",
       "      <th>EPS</th>\n",
       "      <th>Liquidity</th>\n",
       "      <th>Profitability</th>\n",
       "      <th>Productivity</th>\n",
       "      <th>Leverage Ratio</th>\n",
       "      <th>Asset Turnover</th>\n",
       "      <th>Operational Margin</th>\n",
       "      <th>Return on Equity</th>\n",
       "      <th>Market Book Ratio</th>\n",
       "      <th>Assets Growth</th>\n",
       "      <th>Sales Growth</th>\n",
       "      <th>Employee Growth</th>\n",
       "      <th>BK</th>\n",
       "    </tr>\n",
       "  </thead>\n",
       "  <tbody>\n",
       "    <tr>\n",
       "      <th>EPS</th>\n",
       "      <td>1.000000</td>\n",
       "      <td>-0.000053</td>\n",
       "      <td>-0.000224</td>\n",
       "      <td>-0.000210</td>\n",
       "      <td>0.000039</td>\n",
       "      <td>0.001236</td>\n",
       "      <td>-0.000217</td>\n",
       "      <td>0.264836</td>\n",
       "      <td>0.000231</td>\n",
       "      <td>0.000061</td>\n",
       "      <td>0.000075</td>\n",
       "      <td>0.000182</td>\n",
       "      <td>-0.007860</td>\n",
       "    </tr>\n",
       "    <tr>\n",
       "      <th>Liquidity</th>\n",
       "      <td>-0.000053</td>\n",
       "      <td>1.000000</td>\n",
       "      <td>0.601435</td>\n",
       "      <td>0.154382</td>\n",
       "      <td>0.000073</td>\n",
       "      <td>-0.056079</td>\n",
       "      <td>0.004052</td>\n",
       "      <td>0.830468</td>\n",
       "      <td>0.000825</td>\n",
       "      <td>0.000260</td>\n",
       "      <td>0.000133</td>\n",
       "      <td>0.000496</td>\n",
       "      <td>0.000522</td>\n",
       "    </tr>\n",
       "    <tr>\n",
       "      <th>Profitability</th>\n",
       "      <td>-0.000224</td>\n",
       "      <td>0.601435</td>\n",
       "      <td>1.000000</td>\n",
       "      <td>0.441691</td>\n",
       "      <td>0.000226</td>\n",
       "      <td>-0.147214</td>\n",
       "      <td>0.019652</td>\n",
       "      <td>0.308614</td>\n",
       "      <td>0.002899</td>\n",
       "      <td>0.000531</td>\n",
       "      <td>0.000314</td>\n",
       "      <td>0.001017</td>\n",
       "      <td>0.001237</td>\n",
       "    </tr>\n",
       "    <tr>\n",
       "      <th>Productivity</th>\n",
       "      <td>-0.000210</td>\n",
       "      <td>0.154382</td>\n",
       "      <td>0.441691</td>\n",
       "      <td>1.000000</td>\n",
       "      <td>0.000308</td>\n",
       "      <td>-0.191331</td>\n",
       "      <td>0.087915</td>\n",
       "      <td>0.005962</td>\n",
       "      <td>0.008771</td>\n",
       "      <td>0.000182</td>\n",
       "      <td>-0.000002</td>\n",
       "      <td>0.001199</td>\n",
       "      <td>-0.003119</td>\n",
       "    </tr>\n",
       "    <tr>\n",
       "      <th>Leverage Ratio</th>\n",
       "      <td>0.000039</td>\n",
       "      <td>0.000073</td>\n",
       "      <td>0.000226</td>\n",
       "      <td>0.000308</td>\n",
       "      <td>1.000000</td>\n",
       "      <td>-0.001423</td>\n",
       "      <td>0.000302</td>\n",
       "      <td>0.000006</td>\n",
       "      <td>0.057538</td>\n",
       "      <td>-0.000073</td>\n",
       "      <td>0.000094</td>\n",
       "      <td>-0.000067</td>\n",
       "      <td>-0.000184</td>\n",
       "    </tr>\n",
       "    <tr>\n",
       "      <th>Asset Turnover</th>\n",
       "      <td>0.001236</td>\n",
       "      <td>-0.056079</td>\n",
       "      <td>-0.147214</td>\n",
       "      <td>-0.191331</td>\n",
       "      <td>-0.001423</td>\n",
       "      <td>1.000000</td>\n",
       "      <td>0.017233</td>\n",
       "      <td>-0.004641</td>\n",
       "      <td>-0.006120</td>\n",
       "      <td>-0.002230</td>\n",
       "      <td>-0.000367</td>\n",
       "      <td>-0.003289</td>\n",
       "      <td>0.013142</td>\n",
       "    </tr>\n",
       "    <tr>\n",
       "      <th>Operational Margin</th>\n",
       "      <td>-0.000217</td>\n",
       "      <td>0.004052</td>\n",
       "      <td>0.019652</td>\n",
       "      <td>0.087915</td>\n",
       "      <td>0.000302</td>\n",
       "      <td>0.017233</td>\n",
       "      <td>1.000000</td>\n",
       "      <td>0.002121</td>\n",
       "      <td>0.009750</td>\n",
       "      <td>-0.001173</td>\n",
       "      <td>0.000392</td>\n",
       "      <td>0.000080</td>\n",
       "      <td>0.001469</td>\n",
       "    </tr>\n",
       "    <tr>\n",
       "      <th>Return on Equity</th>\n",
       "      <td>0.264836</td>\n",
       "      <td>0.830468</td>\n",
       "      <td>0.308614</td>\n",
       "      <td>0.005962</td>\n",
       "      <td>0.000006</td>\n",
       "      <td>-0.004641</td>\n",
       "      <td>0.002121</td>\n",
       "      <td>1.000000</td>\n",
       "      <td>0.000232</td>\n",
       "      <td>0.000148</td>\n",
       "      <td>0.000088</td>\n",
       "      <td>0.000287</td>\n",
       "      <td>-0.004798</td>\n",
       "    </tr>\n",
       "    <tr>\n",
       "      <th>Market Book Ratio</th>\n",
       "      <td>0.000231</td>\n",
       "      <td>0.000825</td>\n",
       "      <td>0.002899</td>\n",
       "      <td>0.008771</td>\n",
       "      <td>0.057538</td>\n",
       "      <td>-0.006120</td>\n",
       "      <td>0.009750</td>\n",
       "      <td>0.000232</td>\n",
       "      <td>1.000000</td>\n",
       "      <td>0.000077</td>\n",
       "      <td>-0.001398</td>\n",
       "      <td>0.000317</td>\n",
       "      <td>-0.002029</td>\n",
       "    </tr>\n",
       "    <tr>\n",
       "      <th>Assets Growth</th>\n",
       "      <td>0.000061</td>\n",
       "      <td>0.000260</td>\n",
       "      <td>0.000531</td>\n",
       "      <td>0.000182</td>\n",
       "      <td>-0.000073</td>\n",
       "      <td>-0.002230</td>\n",
       "      <td>-0.001173</td>\n",
       "      <td>0.000148</td>\n",
       "      <td>0.000077</td>\n",
       "      <td>1.000000</td>\n",
       "      <td>0.087775</td>\n",
       "      <td>0.015065</td>\n",
       "      <td>-0.001163</td>\n",
       "    </tr>\n",
       "    <tr>\n",
       "      <th>Sales Growth</th>\n",
       "      <td>0.000075</td>\n",
       "      <td>0.000133</td>\n",
       "      <td>0.000314</td>\n",
       "      <td>-0.000002</td>\n",
       "      <td>0.000094</td>\n",
       "      <td>-0.000367</td>\n",
       "      <td>0.000392</td>\n",
       "      <td>0.000088</td>\n",
       "      <td>-0.001398</td>\n",
       "      <td>0.087775</td>\n",
       "      <td>1.000000</td>\n",
       "      <td>0.088655</td>\n",
       "      <td>-0.000214</td>\n",
       "    </tr>\n",
       "    <tr>\n",
       "      <th>Employee Growth</th>\n",
       "      <td>0.000182</td>\n",
       "      <td>0.000496</td>\n",
       "      <td>0.001017</td>\n",
       "      <td>0.001199</td>\n",
       "      <td>-0.000067</td>\n",
       "      <td>-0.003289</td>\n",
       "      <td>0.000080</td>\n",
       "      <td>0.000287</td>\n",
       "      <td>0.000317</td>\n",
       "      <td>0.015065</td>\n",
       "      <td>0.088655</td>\n",
       "      <td>1.000000</td>\n",
       "      <td>0.001526</td>\n",
       "    </tr>\n",
       "    <tr>\n",
       "      <th>BK</th>\n",
       "      <td>-0.007860</td>\n",
       "      <td>0.000522</td>\n",
       "      <td>0.001237</td>\n",
       "      <td>-0.003119</td>\n",
       "      <td>-0.000184</td>\n",
       "      <td>0.013142</td>\n",
       "      <td>0.001469</td>\n",
       "      <td>-0.004798</td>\n",
       "      <td>-0.002029</td>\n",
       "      <td>-0.001163</td>\n",
       "      <td>-0.000214</td>\n",
       "      <td>0.001526</td>\n",
       "      <td>1.000000</td>\n",
       "    </tr>\n",
       "  </tbody>\n",
       "</table>\n",
       "</div>"
      ],
      "text/plain": [
       "                         EPS  Liquidity  ...  Employee Growth        BK\n",
       "EPS                 1.000000  -0.000053  ...         0.000182 -0.007860\n",
       "Liquidity          -0.000053   1.000000  ...         0.000496  0.000522\n",
       "Profitability      -0.000224   0.601435  ...         0.001017  0.001237\n",
       "Productivity       -0.000210   0.154382  ...         0.001199 -0.003119\n",
       "Leverage Ratio      0.000039   0.000073  ...        -0.000067 -0.000184\n",
       "Asset Turnover      0.001236  -0.056079  ...        -0.003289  0.013142\n",
       "Operational Margin -0.000217   0.004052  ...         0.000080  0.001469\n",
       "Return on Equity    0.264836   0.830468  ...         0.000287 -0.004798\n",
       "Market Book Ratio   0.000231   0.000825  ...         0.000317 -0.002029\n",
       "Assets Growth       0.000061   0.000260  ...         0.015065 -0.001163\n",
       "Sales Growth        0.000075   0.000133  ...         0.088655 -0.000214\n",
       "Employee Growth     0.000182   0.000496  ...         1.000000  0.001526\n",
       "BK                 -0.007860   0.000522  ...         0.001526  1.000000\n",
       "\n",
       "[13 rows x 13 columns]"
      ]
     },
     "execution_count": 16,
     "metadata": {
      "tags": []
     },
     "output_type": "execute_result"
    }
   ],
   "source": [
    "df.corr()"
   ]
  },
  {
   "cell_type": "code",
   "execution_count": null,
   "metadata": {
    "colab": {
     "base_uri": "https://localhost:8080/",
     "height": 1000
    },
    "id": "bLiLotFD3nGE",
    "outputId": "0ade96b1-e9c1-4144-8aa8-6af56043c708"
   },
   "outputs": [
    {
     "data": {
      "image/png": "[encoded data removed]",
      "text/plain": [
       "<Figure size 1224x1224 with 2 Axes>"
      ]
     },
     "metadata": {
      "needs_background": "light",
      "tags": []
     },
     "output_type": "display_data"
    }
   ],
   "source": [
    "plt.figure(figsize=(17,17))\n",
    "sns.heatmap(df.corr(), annot=False, cmap='coolwarm')\n",
    "plt.show()"
   ]
  },
  {
   "cell_type": "code",
   "execution_count": null,
   "metadata": {
    "id": "qnBLkE7i5LIx"
   },
   "outputs": [],
   "source": [
    "X = df.copy()"
   ]
  },
  {
   "cell_type": "code",
   "execution_count": null,
   "metadata": {
    "id": "L920CBMD-rzV"
   },
   "outputs": [],
   "source": [
    "target_col = 'BK'"
   ]
  },
  {
   "cell_type": "code",
   "execution_count": null,
   "metadata": {
    "id": "7h3Oyknd4Lic"
   },
   "outputs": [],
   "source": [
    "X = df.drop([target_col], axis=1)\n",
    "y = df[target_col]"
   ]
  },
  {
   "cell_type": "code",
   "execution_count": null,
   "metadata": {
    "id": "IQH8_eHsyTYT"
   },
   "outputs": [],
   "source": [
    "from sklearn.model_selection import train_test_split\n",
    "\n",
    "X_train, X_test, y_train, y_test = train_test_split(X,y, stratify=y,random_state=97, test_size=0.2)"
   ]
  },
  {
   "cell_type": "code",
   "execution_count": null,
   "metadata": {
    "id": "T9Xio5zl4Fdg"
   },
   "outputs": [],
   "source": [
    "from imblearn.over_sampling import SMOTE\n",
    "over = SMOTE(ratio = 0.5)\n",
    "X_train, y_train = over.fit_resample(X_train, y_train)"
   ]
  },
  {
   "cell_type": "code",
   "execution_count": null,
   "metadata": {
    "colab": {
     "base_uri": "https://localhost:8080/",
     "height": 374
    },
    "id": "Gt-xdG9Fo7-c",
    "outputId": "3c18489a-a68f-43ab-f72c-f9491f3e5f7b"
   },
   "outputs": [
    {
     "data": {
      "image/png": "[encoded data removed]",
      "text/plain": [
       "<Figure size 864x432 with 1 Axes>"
      ]
     },
     "metadata": {
      "needs_background": "light",
      "tags": []
     },
     "output_type": "display_data"
    }
   ],
   "source": [
    "plt.figure(figsize=(12,6))\n",
    "sns.countplot(y_train)\n",
    "plt.show()"
   ]
  },
  {
   "cell_type": "code",
   "execution_count": null,
   "metadata": {
    "colab": {
     "base_uri": "https://localhost:8080/"
    },
    "id": "SnvsSI_ss-XD",
    "outputId": "0d726761-2e45-4649-c8d8-a1b4619529cc"
   },
   "outputs": [
    {
     "name": "stdout",
     "output_type": "stream",
     "text": [
      "(96844, 12) (96844,)\n",
      "(16236, 12) (16236,)\n"
     ]
    }
   ],
   "source": [
    "print(X_train.shape,y_train.shape)\n",
    "print(X_test.shape,y_test.shape)"
   ]
  },
  {
   "cell_type": "code",
   "execution_count": null,
   "metadata": {
    "colab": {
     "base_uri": "https://localhost:8080/"
    },
    "id": "B6CzT098mXCs",
    "outputId": "5cc380ef-d068-4dc2-fdeb-00b284e5c2bf"
   },
   "outputs": [
    {
     "data": {
      "text/plain": [
       "32281"
      ]
     },
     "execution_count": 27,
     "metadata": {
      "tags": []
     },
     "output_type": "execute_result"
    }
   ],
   "source": [
    "sum(y_train)"
   ]
  },
  {
   "cell_type": "code",
   "execution_count": null,
   "metadata": {
    "id": "OZj-ofqh7OD_"
   },
   "outputs": [],
   "source": [
    "sc = StandardScaler()\n",
    "X_train_sc = sc.fit_transform(X_train)\n",
    "X_test_sc = sc.fit_transform(X_test)"
   ]
  },
  {
   "cell_type": "code",
   "execution_count": null,
   "metadata": {
    "colab": {
     "base_uri": "https://localhost:8080/",
     "height": 697
    },
    "id": "Nm14LZ7k-gLR",
    "outputId": "84674226-59a2-42bf-e06b-deeeb5eb97c6"
   },
   "outputs": [
    {
     "name": "stdout",
     "output_type": "stream",
     "text": [
      "Confusion Matrix \n",
      " [[12721    29]\n",
      " [ 3420    66]]\n",
      "\n",
      "f1_score \n",
      " 0.03686121195196872\n",
      "\n",
      "average_precision_score \n",
      " 0.2237963808621278\n",
      "\n",
      "recall_score \n",
      " 0.0189328743545611\n",
      "\n",
      "Classification Report \n",
      "               precision    recall  f1-score   support\n",
      "\n",
      "           0       0.79      1.00      0.88     12750\n",
      "           1       0.69      0.02      0.04      3486\n",
      "\n",
      "    accuracy                           0.79     16236\n",
      "   macro avg       0.74      0.51      0.46     16236\n",
      "weighted avg       0.77      0.79      0.70     16236\n",
      "\n"
     ]
    },
    {
     "data": {
      "image/png": "[encoded data removed]",
      "text/plain": [
       "<Figure size 432x288 with 1 Axes>"
      ]
     },
     "metadata": {
      "needs_background": "light",
      "tags": []
     },
     "output_type": "display_data"
    }
   ],
   "source": [
    "classifier1 = LogisticRegression()\n",
    "classifier1.fit(X_train_sc,y_train)\n",
    "y_lr=classifier1.predict(X_test_sc)\n",
    "\n",
    "print('Confusion Matrix \\n',confusion_matrix(y_lr,y_test))\n",
    "print()\n",
    "print('f1_score \\n', f1_score(y_lr,y_test))\n",
    "print()\n",
    "print('average_precision_score \\n', average_precision_score(y_lr,y_test))\n",
    "print()\n",
    "print('recall_score \\n', recall_score(y_lr,y_test))\n",
    "print()\n",
    "print('Classification Report \\n',classification_report(y_lr,y_test))\n",
    "metrics.plot_roc_curve(classifier1, X_test_sc, y_test)  \n",
    "plt.show()  "
   ]
  },
  {
   "cell_type": "code",
   "execution_count": null,
   "metadata": {
    "colab": {
     "base_uri": "https://localhost:8080/",
     "height": 697
    },
    "id": "AF_3pfbu-qAD",
    "outputId": "707a6808-3aa3-4a53-ee9b-31b5d5fa2a87"
   },
   "outputs": [
    {
     "name": "stdout",
     "output_type": "stream",
     "text": [
      "Confusion Matrix \n",
      " [[15833    60]\n",
      " [  308    35]]\n",
      "\n",
      "f1_score \n",
      " 0.1598173515981735\n",
      "\n",
      "average_precision_score \n",
      " 0.05656417466430304\n",
      "\n",
      "recall_score \n",
      " 0.10204081632653061\n",
      "\n",
      "Classification Report \n",
      "               precision    recall  f1-score   support\n",
      "\n",
      "           0       0.98      1.00      0.99     15893\n",
      "           1       0.37      0.10      0.16       343\n",
      "\n",
      "    accuracy                           0.98     16236\n",
      "   macro avg       0.67      0.55      0.57     16236\n",
      "weighted avg       0.97      0.98      0.97     16236\n",
      "\n"
     ]
    },
    {
     "data": {
      "image/png": "[encoded data removed]",
      "text/plain": [
       "<Figure size 432x288 with 1 Axes>"
      ]
     },
     "metadata": {
      "needs_background": "light",
      "tags": []
     },
     "output_type": "display_data"
    }
   ],
   "source": [
    "classifier2 = RandomForestClassifier(max_depth=26, class_weight=\"balanced_subsample\", criterion=\"gini\", random_state=0)\n",
    "classifier2.fit(X_train,y_train)\n",
    "y_rfc=classifier2.predict(X_test)\n",
    "\n",
    "print('Confusion Matrix \\n',confusion_matrix(y_rfc,y_test))\n",
    "print()\n",
    "print('f1_score \\n', f1_score(y_rfc,y_test))\n",
    "print()\n",
    "print('average_precision_score \\n', average_precision_score(y_rfc,y_test))\n",
    "print()\n",
    "print('recall_score \\n', recall_score(y_rfc,y_test))\n",
    "print()\n",
    "print('Classification Report \\n',classification_report(y_rfc,y_test))\n",
    "metrics.plot_roc_curve(classifier2, X_test, y_test)  \n",
    "plt.show()  "
   ]
  },
  {
   "cell_type": "code",
   "execution_count": null,
   "metadata": {
    "colab": {
     "base_uri": "https://localhost:8080/",
     "height": 697
    },
    "id": "aECBG-omAf1M",
    "outputId": "77f17b61-be7f-450d-9d19-a9ed3ce80eb0"
   },
   "outputs": [
    {
     "name": "stdout",
     "output_type": "stream",
     "text": [
      "Confusion Matrix \n",
      " [[16054    88]\n",
      " [   87     7]]\n",
      "\n",
      "f1_score \n",
      " 0.07407407407407406\n",
      "\n",
      "average_precision_score \n",
      " 0.010845584736006171\n",
      "\n",
      "recall_score \n",
      " 0.07446808510638298\n",
      "\n",
      "Classification Report \n",
      "               precision    recall  f1-score   support\n",
      "\n",
      "           0       0.99      0.99      0.99     16142\n",
      "           1       0.07      0.07      0.07        94\n",
      "\n",
      "    accuracy                           0.99     16236\n",
      "   macro avg       0.53      0.53      0.53     16236\n",
      "weighted avg       0.99      0.99      0.99     16236\n",
      "\n"
     ]
    },
    {
     "data": {
      "image/png": "[encoded data removed]",
      "text/plain": [
       "<Figure size 432x288 with 1 Axes>"
      ]
     },
     "metadata": {
      "needs_background": "light",
      "tags": []
     },
     "output_type": "display_data"
    }
   ],
   "source": [
    "classifier3 = GradientBoostingClassifier()\n",
    "classifier3.fit(X_train_sc,y_train)\n",
    "y_gbc=classifier3.predict(X_test_sc)\n",
    "\n",
    "print('Confusion Matrix \\n',confusion_matrix(y_gbc,y_test))\n",
    "print()\n",
    "print('f1_score \\n', f1_score(y_gbc,y_test))\n",
    "print()\n",
    "print('average_precision_score \\n', average_precision_score(y_gbc,y_test))\n",
    "print()\n",
    "print('recall_score \\n', recall_score(y_gbc,y_test))\n",
    "print()\n",
    "print('Classification Report \\n',classification_report(y_gbc,y_test))\n",
    "metrics.plot_roc_curve(classifier3, X_test_sc, y_test)  \n",
    "plt.show()  "
   ]
  },
  {
   "cell_type": "code",
   "execution_count": null,
   "metadata": {
    "colab": {
     "base_uri": "https://localhost:8080/",
     "height": 697
    },
    "id": "-B0yG-XZAuQo",
    "outputId": "d096dfa4-abe8-4d97-d15e-1e8e35c0f43b"
   },
   "outputs": [
    {
     "name": "stdout",
     "output_type": "stream",
     "text": [
      "Confusion Matrix \n",
      " [[ 2106    17]\n",
      " [14035    78]]\n",
      "\n",
      "f1_score \n",
      " 0.010979729729729729\n",
      "\n",
      "average_precision_score \n",
      " 0.8689748629465396\n",
      "\n",
      "recall_score \n",
      " 0.005526819244668036\n",
      "\n",
      "Classification Report \n",
      "               precision    recall  f1-score   support\n",
      "\n",
      "           0       0.13      0.99      0.23      2123\n",
      "           1       0.82      0.01      0.01     14113\n",
      "\n",
      "    accuracy                           0.13     16236\n",
      "   macro avg       0.48      0.50      0.12     16236\n",
      "weighted avg       0.73      0.13      0.04     16236\n",
      "\n"
     ]
    },
    {
     "data": {
      "image/png": "[encoded data removed]",
      "text/plain": [
       "<Figure size 432x288 with 1 Axes>"
      ]
     },
     "metadata": {
      "needs_background": "light",
      "tags": []
     },
     "output_type": "display_data"
    }
   ],
   "source": [
    "classifier4 = GaussianNB()\n",
    "classifier4.fit(X_train_sc,y_train)\n",
    "y_gb=classifier4.predict(X_test_sc)\n",
    "\n",
    "print('Confusion Matrix \\n',confusion_matrix(y_gb,y_test))\n",
    "print()\n",
    "print('f1_score \\n', f1_score(y_gb,y_test))\n",
    "print()\n",
    "print('average_precision_score \\n', average_precision_score(y_gb,y_test))\n",
    "print()\n",
    "print('recall_score \\n', recall_score(y_gb,y_test))\n",
    "print()\n",
    "print('Classification Report \\n',classification_report(y_gb,y_test))\n",
    "metrics.plot_roc_curve(classifier4, X_test_sc, y_test)  \n",
    "plt.show()  "
   ]
  }
 ],
 "metadata": {
  "accelerator": "GPU",
  "colab": {
   "collapsed_sections": [],
   "machine_shape": "hm",
   "name": "MMAI823_A2_Union_v4.ipynb",
   "provenance": []
  },
  "kernelspec": {
   "display_name": "Python 3",
   "language": "python",
   "name": "python3"
  },
  "language_info": {
   "codemirror_mode": {
    "name": "ipython",
    "version": 3
   },
   "file_extension": ".py",
   "mimetype": "text/x-python",
   "name": "python",
   "nbconvert_exporter": "python",
   "pygments_lexer": "ipython3",
   "version": "3.8.3"
  }
 },
 "nbformat": 4,
 "nbformat_minor": 1
}
